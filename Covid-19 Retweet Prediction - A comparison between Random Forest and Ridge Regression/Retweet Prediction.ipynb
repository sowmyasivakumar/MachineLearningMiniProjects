{
 "cells": [
  {
   "cell_type": "markdown",
   "id": "6a612f12",
   "metadata": {},
   "source": [
    "# Intro to AI - HW2 \n",
    "#### Name : Sowmya Sivakumar\n",
    "#### Andrew ID : sowmyasi@andrew.cmu.edu\n",
    "\n",
    "### Objective : Prediction of Re-tweets during Covid-19\n",
    "Description : To “predict the \n",
    "popularity of COVID-19-related tweets in terms of the number of their retweets,” meaning, predict a \n",
    "tweet’s popularity (as measured by its retweets) via other factors related to it."
   ]
  },
  {
   "cell_type": "code",
   "execution_count": 1,
   "id": "9280c15a",
   "metadata": {},
   "outputs": [],
   "source": [
    "import pandas as pd \n",
    "import numpy as np\n",
    "import sklearn\n",
    "import matplotlib.pyplot as plt\n",
    "import seaborn as sns \n",
    "from sklearn.preprocessing import StandardScaler\n",
    "from sklearn.ensemble import RandomForestRegressor\n",
    "from sklearn.linear_model import RidgeCV\n",
    "from sklearn.linear_model import LinearRegression\n",
    "from sklearn.model_selection import train_test_split\n",
    "from sklearn import metrics\n",
    "from sklearn import tree\n",
    "from sklearn.model_selection import GridSearchCV\n",
    "from sklearn.model_selection import KFold\n",
    "from pprint import pprint"
   ]
  },
  {
   "cell_type": "code",
   "execution_count": 2,
   "id": "950e2ec7",
   "metadata": {},
   "outputs": [
    {
     "data": {
      "text/plain": [
       "Tweet ID        0\n",
       "Username        0\n",
       "Timestamp       0\n",
       "#Followers      0\n",
       "#Friends        0\n",
       "#Retweets       0\n",
       "#Favorites      0\n",
       "Entities        0\n",
       "Sentiment       0\n",
       "Mentions      233\n",
       "Hashtags       31\n",
       "URLs            0\n",
       "dtype: int64"
      ]
     },
     "execution_count": 2,
     "metadata": {},
     "output_type": "execute_result"
    }
   ],
   "source": [
    "#import the data and understand the format of data for cleaning\n",
    "data = pd.read_csv('hw2.csv')\n",
    "data.head()\n",
    "data.describe(include = 'all')\n",
    "data.isnull().sum()\n"
   ]
  },
  {
   "cell_type": "code",
   "execution_count": 175,
   "id": "5cfcb84a",
   "metadata": {},
   "outputs": [
    {
     "data": {
      "text/plain": [
       "76472"
      ]
     },
     "execution_count": 175,
     "metadata": {},
     "output_type": "execute_result"
    }
   ],
   "source": [
    "len(data.loc[data['Hashtags'] == 'null;'])"
   ]
  },
  {
   "cell_type": "markdown",
   "id": "e53927e7",
   "metadata": {},
   "source": [
    "### Data Cleaning"
   ]
  },
  {
   "cell_type": "code",
   "execution_count": 176,
   "id": "87c6c9d7",
   "metadata": {},
   "outputs": [],
   "source": [
    "#1b - extract time data to form meaningfull columns \n",
    "df = data.copy()\n",
    "df['Date'] = pd.to_datetime(df.Timestamp).dt.date\n",
    "df['Time'] = pd.to_datetime(df.Timestamp).dt.time\n",
    "df['Day'] = pd.to_datetime(df.Timestamp).dt.day\n",
    "df['Hour'] = pd.to_datetime(df.Timestamp).dt.hour"
   ]
  },
  {
   "cell_type": "code",
   "execution_count": 177,
   "id": "ab138369",
   "metadata": {},
   "outputs": [],
   "source": [
    "#1a- Extract negative and positive sentiment from the sentiment score column\n",
    "\n",
    "temp = df['Sentiment'].str.split(\" \", expand = True)\n",
    "df['PositiveSentiment'] = temp[0].astype(int)\n",
    "df['NegativeSentiment'] = temp[1].astype(int)"
   ]
  },
  {
   "cell_type": "code",
   "execution_count": 178,
   "id": "6bb20d95",
   "metadata": {},
   "outputs": [],
   "source": [
    "# #Extract number of entities\n",
    "\n",
    "#Entity column\n",
    "df['Entities'] = df['Entities'].apply(lambda x: len(x.split(\";\")))\n",
    "\n",
    "#1b - Extract number of Mentions(while retaining the missing values)\n",
    "notnullmask = df['Mentions'].notnull()\n",
    "nullmask = df['Mentions'].isnull()\n",
    "df['#Mentions'] = pd.concat([df['Mentions'][notnullmask].astype(str).apply(lambda x:len(x.split(\" \")) if x!= 'null;' else 0), df['Mentions'][nullmask]])\n",
    "        \n",
    "\n",
    "#1-c Extract number of Hashtags(while retaining the missing values)\n",
    "notnullmask = df['Hashtags'].notnull()\n",
    "nullmask = df['Hashtags'].isnull()\n",
    "df['#Hashtags'] = pd.concat([df['Hashtags'][notnullmask].astype(str).apply(lambda x:len(x.split(\" \")) if x!= 'null;' else 0), df['Hashtags'][nullmask]])\n"
   ]
  },
  {
   "cell_type": "code",
   "execution_count": 179,
   "id": "19660682",
   "metadata": {},
   "outputs": [],
   "source": [
    "#Drop columns that are not required \n",
    "df.drop(columns = ['Mentions','Hashtags','Sentiment','Timestamp','URLs','Username','Date','Time'], inplace = True)"
   ]
  },
  {
   "cell_type": "code",
   "execution_count": 180,
   "id": "5b4d9ce4",
   "metadata": {},
   "outputs": [
    {
     "name": "stderr",
     "output_type": "stream",
     "text": [
      "C:\\Miniconda\\lib\\site-packages\\matplotlib\\cbook\\__init__.py:1220: RuntimeWarning: invalid value encountered in less_equal\n",
      "  wiskhi = x[x <= hival]\n",
      "C:\\Miniconda\\lib\\site-packages\\matplotlib\\cbook\\__init__.py:1227: RuntimeWarning: invalid value encountered in greater_equal\n",
      "  wisklo = x[x >= loval]\n",
      "C:\\Miniconda\\lib\\site-packages\\matplotlib\\cbook\\__init__.py:1235: RuntimeWarning: invalid value encountered in less\n",
      "  x[x < stats['whislo']],\n",
      "C:\\Miniconda\\lib\\site-packages\\matplotlib\\cbook\\__init__.py:1236: RuntimeWarning: invalid value encountered in greater\n",
      "  x[x > stats['whishi']],\n"
     ]
    },
    {
     "data": {
      "image/png": "[encoded data removed]",
      "text/plain": [
       "<Figure size 720x504 with 1 Axes>"
      ]
     },
     "metadata": {
      "needs_background": "light"
     },
     "output_type": "display_data"
    },
    {
     "data": {
      "text/plain": [
       "Tweet ID             0\n",
       "#Followers           0\n",
       "#Friends             0\n",
       "#Retweets            0\n",
       "#Favorites           0\n",
       "Entities             0\n",
       "Day                  0\n",
       "Hour                 0\n",
       "PositiveSentiment    0\n",
       "NegativeSentiment    0\n",
       "#Mentions            0\n",
       "#Hashtags            0\n",
       "dtype: int64"
      ]
     },
     "execution_count": 180,
     "metadata": {},
     "output_type": "execute_result"
    }
   ],
   "source": [
    "#1c - Fill in missing values in Mentions and Hashtags (Look at the dsitribution first)\n",
    "\n",
    "plt.figure(figsize =(10, 7))\n",
    "plt.boxplot(df[['#Mentions','#Hashtags']], labels = ['#Mentions','#Hashtags'])\n",
    "plt.show()\n",
    "\n",
    "df['#Mentions'].fillna(df['#Mentions'].median(), inplace = True)\n",
    "df['#Hashtags'].fillna(df['#Hashtags'].median(), inplace = True)\n",
    "df.isnull().sum()"
   ]
  },
  {
   "cell_type": "markdown",
   "id": "40639dbc",
   "metadata": {},
   "source": [
    "#### Exploratory Data Analsis "
   ]
  },
  {
   "cell_type": "code",
   "execution_count": 181,
   "id": "8fcc62c8",
   "metadata": {},
   "outputs": [
    {
     "data": {
      "image/png": "[encoded data removed]",
      "text/plain": [
       "<Figure size 720x720 with 3 Axes>"
      ]
     },
     "metadata": {
      "needs_background": "light"
     },
     "output_type": "display_data"
    },
    {
     "data": {
      "text/plain": [
       "Tweet ID               int64\n",
       "#Followers             int64\n",
       "#Friends               int64\n",
       "#Retweets              int64\n",
       "#Favorites             int64\n",
       "Entities               int64\n",
       "Day                    int64\n",
       "Hour                   int64\n",
       "PositiveSentiment      int32\n",
       "NegativeSentiment      int32\n",
       "#Mentions            float64\n",
       "#Hashtags            float64\n",
       "dtype: object"
      ]
     },
     "execution_count": 181,
     "metadata": {},
     "output_type": "execute_result"
    }
   ],
   "source": [
    "#2a - visualize the columns number of friends, followers, favourites\n",
    "fig, axes = plt.subplots(1, 3, figsize = (10,10))\n",
    "\n",
    "\n",
    "df.hist('#Friends', ax=axes[0], log = True)\n",
    "df.hist('#Favorites', ax=axes[1], log = True)\n",
    "df.hist('#Followers', ax=axes[2], log = True)\n",
    "\n",
    "plt.show()\n",
    "df.dtypes"
   ]
  },
  {
   "cell_type": "markdown",
   "id": "5c6db5e5",
   "metadata": {},
   "source": [
    "#### We can see that the highest number of friends, favourites and followers occur in the lower buckets of the histogram, there are more people with lesser number of friends, followers and favourites."
   ]
  },
  {
   "cell_type": "code",
   "execution_count": 182,
   "id": "a92f7444",
   "metadata": {
    "scrolled": true
   },
   "outputs": [
    {
     "data": {
      "text/plain": [
       "<AxesSubplot:>"
      ]
     },
     "execution_count": 182,
     "metadata": {},
     "output_type": "execute_result"
    },
    {
     "data": {
      "image/png": "[encoded data removed]",
      "text/plain": [
       "<Figure size 432x288 with 2 Axes>"
      ]
     },
     "metadata": {
      "needs_background": "light"
     },
     "output_type": "display_data"
    }
   ],
   "source": [
    "#2b - correlation matrix\n",
    "sns.heatmap(df[['#Followers','#Friends','#Favorites','PositiveSentiment','NegativeSentiment','#Retweets']].corr(),annot = True, cmap=\"YlGnBu\")\n"
   ]
  },
  {
   "cell_type": "markdown",
   "id": "6929d754",
   "metadata": {},
   "source": [
    "- We can see that the number of Retweets is highly correlated with the #Favourites. \n",
    "- There doesn't appear to be a high correlation between most of these variables.\n",
    "- We can also see that the #Retweets is negatively correlated with Negative Sentiment\n",
    "- Though the other variables show a very low correlation, it does not mean that they would not contribute to the model.\n",
    "#### 2c) The plots and the correlation matrix show the trends in the data and the apparent relation between the target variables and independent variables.\n",
    "####  2d) In general, positive correlation implies a positive effect on the variable we are observing and negative correlation implies a detrimental effect on the variable that we are observing.\n",
    "####  2e) If a feature shows 0 correlation to Retweets, it does not mean that it could not contribute to a prediction. There might be non-linear relationship which the Pearson correlation ceofficient cannot capture. "
   ]
  },
  {
   "cell_type": "code",
   "execution_count": 183,
   "id": "c30bb783",
   "metadata": {},
   "outputs": [
    {
     "data": {
      "image/png": "[encoded data removed]",
      "text/plain": [
       "<Figure size 720x720 with 3 Axes>"
      ]
     },
     "metadata": {
      "needs_background": "light"
     },
     "output_type": "display_data"
    }
   ],
   "source": [
    "# check for any relationships between Retweets, #Mentions, #Hashtags, #Entities\n",
    "\n",
    "fig, ax = plt.subplots(3, figsize=(10, 10))\n",
    "\n",
    "ax[0].scatter(x = df['#Mentions'], y = df['#Retweets'])\n",
    "ax[0].set_xlabel('#Mentions')\n",
    "ax[0].set_ylabel('#Retweets')\n",
    "\n",
    "ax[1].scatter(x = df['#Hashtags'], y = df['#Retweets'])\n",
    "ax[1].set_xlabel('#Hashtags')\n",
    "ax[1].set_ylabel('#Retweets')\n",
    "\n",
    "ax[2].scatter(x = df['Entities'], y = df['#Retweets'])\n",
    "ax[2].set_xlabel('Entities')\n",
    "ax[2].set_ylabel('#Retweets')\n",
    "\n",
    "plt.show()"
   ]
  },
  {
   "cell_type": "markdown",
   "id": "f37cd27b",
   "metadata": {},
   "source": [
    " - We can see that, higher the number of retweets, lower the number of hashtags, mentions, entities.\n"
   ]
  },
  {
   "cell_type": "markdown",
   "id": "24e5d91e",
   "metadata": {},
   "source": [
    "### Build a Random Forest Regressor for the given data and evaluate"
   ]
  },
  {
   "cell_type": "code",
   "execution_count": 184,
   "id": "f7742433",
   "metadata": {},
   "outputs": [
    {
     "data": {
      "text/plain": [
       "RandomForestRegressor(random_state=42)"
      ]
     },
     "execution_count": 184,
     "metadata": {},
     "output_type": "execute_result"
    }
   ],
   "source": [
    "#split data into test and train\n",
    "X = df.loc[:,df.columns !='#Retweets']\n",
    "y = df['#Retweets']\n",
    "\n",
    "\n",
    "X_train, X_test, y_train, y_test = train_test_split(X,y, test_size = 0.2, random_state = 1)\n",
    "\n",
    "#train and fit the model \n",
    "randomForestModel = RandomForestRegressor(n_estimators = 100, random_state = 42)\n",
    "\n",
    "#fit model\n",
    "randomForestModel.fit(X_train,y_train)"
   ]
  },
  {
   "cell_type": "code",
   "execution_count": 200,
   "id": "fb22304a",
   "metadata": {},
   "outputs": [
    {
     "name": "stdout",
     "output_type": "stream",
     "text": [
      "Mean Squared : 37936.92\n",
      "Root Mean Squared Error : 194.77\n",
      "Mean Absolute Error: 16.91\n",
      "R-squared : 0.75\n"
     ]
    }
   ],
   "source": [
    "#predict on test \n",
    "y_pred = randomForestModel.predict(X_test)\n",
    "\n",
    "#Calculate MSE and MAE \n",
    "MSE = metrics.mean_squared_error(y_test, y_pred)\n",
    "RMSE = np.sqrt(MSE)\n",
    "MAE = metrics.mean_absolute_error(y_test, y_pred)\n",
    "r2 =  metrics.r2_score(y_test, y_pred)\n",
    "\n",
    "\n",
    "print(\"Mean Squared : {0}\\nRoot Mean Squared Error : {1}\\nMean Absolute Error: {2}\\nR-squared : {3}\".format(round(MSE,2),round(RMSE,2),round(MAE,2),round(r2,2)))"
   ]
  },
  {
   "cell_type": "code",
   "execution_count": 187,
   "id": "c3f9257d",
   "metadata": {},
   "outputs": [
    {
     "data": {
      "image/png": "[encoded data removed]",
      "text/plain": [
       "<Figure size 432x288 with 1 Axes>"
      ]
     },
     "metadata": {
      "needs_background": "light"
     },
     "output_type": "display_data"
    }
   ],
   "source": [
    "# visualize true and predicted \n",
    "fig, ax = plt.subplots()\n",
    "ax.scatter(y_test, y_pred)\n",
    "ax.plot([y.min(), y.max()], [y.min(), y.max()], 'k--', lw=4)\n",
    "ax.set_xlabel('Measured')\n",
    "ax.set_ylabel('Predicted')\n",
    "ax.set_xscale('log')\n",
    "ax.set_yscale('log')\n",
    "plt.show()"
   ]
  },
  {
   "cell_type": "code",
   "execution_count": 188,
   "id": "b2f600dc",
   "metadata": {},
   "outputs": [
    {
     "name": "stdout",
     "output_type": "stream",
     "text": [
      "Variable :#Favorites           Importance : 0.88\n",
      "Variable :Tweet ID             Importance : 0.04\n",
      "Variable :#Followers           Importance : 0.02\n",
      "Variable :#Friends             Importance : 0.02\n",
      "Variable :Entities             Importance : 0.01\n",
      "Variable :Day                  Importance : 0.01\n",
      "Variable :Hour                 Importance : 0.01\n",
      "Variable :NegativeSentiment    Importance : 0.01\n",
      "Variable :#Mentions            Importance : 0.01\n",
      "Variable :PositiveSentiment    Importance : 0.0\n",
      "Variable :#Hashtags            Importance : 0.0\n"
     ]
    }
   ],
   "source": [
    "#view the feature importances (in terms of Gini Index)\n",
    "featureImportance = [(col, round(imp, 2)) for col, imp in zip(X.columns, list(randomForestModel.feature_importances_))]\n",
    "sortedImportance = sorted(featureImportance, key = lambda x:x[1], reverse = True)\n",
    "for i in range(len(sortedImportance)):\n",
    "    print(\"Variable :{:20} Importance : {}\".format(sortedImportance[i][0],sortedImportance[i][1]))"
   ]
  },
  {
   "cell_type": "code",
   "execution_count": 189,
   "id": "4790109a",
   "metadata": {},
   "outputs": [
    {
     "name": "stdout",
     "output_type": "stream",
     "text": [
      "{'max_depth': [50, 100], 'n_estimators': [60, 100, 150]}\n",
      "Fitting 3 folds for each of 6 candidates, totalling 18 fits\n",
      "[CV] END ......................max_depth=50, n_estimators=60; total time=  17.7s\n",
      "[CV] END ......................max_depth=50, n_estimators=60; total time=  16.2s\n",
      "[CV] END ......................max_depth=50, n_estimators=60; total time=  17.3s\n",
      "[CV] END .....................max_depth=50, n_estimators=100; total time=  29.0s\n",
      "[CV] END .....................max_depth=50, n_estimators=100; total time=  28.2s\n",
      "[CV] END .....................max_depth=50, n_estimators=100; total time=  35.6s\n",
      "[CV] END .....................max_depth=50, n_estimators=150; total time=  45.6s\n",
      "[CV] END .....................max_depth=50, n_estimators=150; total time=  41.4s\n",
      "[CV] END .....................max_depth=50, n_estimators=150; total time=  44.3s\n",
      "[CV] END .....................max_depth=100, n_estimators=60; total time=  16.9s\n",
      "[CV] END .....................max_depth=100, n_estimators=60; total time=  16.3s\n",
      "[CV] END .....................max_depth=100, n_estimators=60; total time=  16.8s\n",
      "[CV] END ....................max_depth=100, n_estimators=100; total time=  28.7s\n",
      "[CV] END ....................max_depth=100, n_estimators=100; total time=  27.3s\n",
      "[CV] END ....................max_depth=100, n_estimators=100; total time=  28.0s\n",
      "[CV] END ....................max_depth=100, n_estimators=150; total time=  42.9s\n",
      "[CV] END ....................max_depth=100, n_estimators=150; total time=  41.7s\n",
      "[CV] END ....................max_depth=100, n_estimators=150; total time=  42.6s\n"
     ]
    },
    {
     "data": {
      "text/plain": [
       "GridSearchCV(cv=3, estimator=RandomForestRegressor(),\n",
       "             param_grid={'max_depth': [50, 100],\n",
       "                         'n_estimators': [60, 100, 150]},\n",
       "             verbose=2)"
      ]
     },
     "execution_count": 189,
     "metadata": {},
     "output_type": "execute_result"
    }
   ],
   "source": [
    "#search for best params using Hyperparameter tuning \n",
    "\n",
    "# Number of trees in random forest\n",
    "n_estimators = [60,100,150]\n",
    "# Maximum number of levels in tree\n",
    "max_depth = [50,100]\n",
    "\n",
    "# Create the random grid\n",
    "param_grid = {'n_estimators': n_estimators,\n",
    "               'max_depth': max_depth}\n",
    "pprint(param_grid)\n",
    "\n",
    "#Do randomized search\n",
    "rfmodel = RandomForestRegressor()\n",
    "searchModel = GridSearchCV(estimator = rfmodel,param_grid = param_grid, verbose = 2, cv = 3)\n",
    "searchModel.fit(X_train, y_train)"
   ]
  },
  {
   "cell_type": "code",
   "execution_count": 215,
   "id": "4112ec9d",
   "metadata": {},
   "outputs": [
    {
     "name": "stdout",
     "output_type": "stream",
     "text": [
      "{'max_depth': 50, 'n_estimators': 150}\n"
     ]
    }
   ],
   "source": [
    "pprint(searchModel.best_params_)\n"
   ]
  },
  {
   "cell_type": "code",
   "execution_count": 195,
   "id": "7a0b862e",
   "metadata": {},
   "outputs": [
    {
     "name": "stdout",
     "output_type": "stream",
     "text": [
      "Mean Squared : 24205.22\n",
      "Root Mean Squared Error : 155.58\n",
      "Mean Absolute Error: 16.55\n",
      "R-squared : 0.84\n"
     ]
    }
   ],
   "source": [
    "#test out model on the test set \n",
    "predicted = searchModel.predict(X_test)\n",
    "\n",
    "#Calculate MSE and MAE \n",
    "MSE = metrics.mean_squared_error(y_test, predicted)\n",
    "RMSE = np.sqrt(MSE)\n",
    "MAE = metrics.mean_absolute_error(y_test, predicted)\n",
    "r2 =  metrics.r2_score(y_test, predicted)\n",
    "\n",
    "print(\"Mean Squared : {0}\\nRoot Mean Squared Error : {1}\\nMean Absolute Error: {2}\\nR-squared : {3}\".format(round(MSE,2),round(RMSE,2),round(MAE,2),round(r2,2)))"
   ]
  },
  {
   "cell_type": "markdown",
   "id": "169ced21",
   "metadata": {},
   "source": [
    "##### We can see that the R-squared value has increased from 0.75 to 0.82 and the Mean Squared Error has gone down to 27570 from 37936 upon Hyperparameter Tuning. Hence, we will retain this model and use the same for comparison."
   ]
  },
  {
   "cell_type": "code",
   "execution_count": 202,
   "id": "f1f2e2fd",
   "metadata": {},
   "outputs": [
    {
     "data": {
      "image/png": "[encoded data removed]",
      "text/plain": [
       "<Figure size 432x288 with 1 Axes>"
      ]
     },
     "metadata": {
      "needs_background": "light"
     },
     "output_type": "display_data"
    }
   ],
   "source": [
    "# visualize true and predicted \n",
    "fig, ax = plt.subplots()\n",
    "ax.scatter(y_test, predicted)\n",
    "ax.plot([y.min(), y.max()], [y.min(), y.max()], 'k--', lw=4)\n",
    "ax.set_xlabel('Measured')\n",
    "ax.set_ylabel('Predicted')\n",
    "ax.set_xscale('log')\n",
    "ax.set_yscale('log')\n",
    "plt.show()"
   ]
  },
  {
   "cell_type": "markdown",
   "id": "62f56a87",
   "metadata": {},
   "source": [
    "### Build a Ridge Regression Model for the same data and evaluate"
   ]
  },
  {
   "cell_type": "code",
   "execution_count": 197,
   "id": "a680bd36",
   "metadata": {},
   "outputs": [],
   "source": [
    "#split data into test and train\n",
    "X = df.loc[:,df.columns !='#Retweets']\n",
    "y = df['#Retweets']\n",
    "\n",
    "#split into test and train \n",
    "X_train, X_test, y_train, y_test = train_test_split(X,y, test_size = 0.2, random_state = 1)\n",
    "\n",
    "#standardize the train and test data (since we are using a regression technique)\n",
    "scale = StandardScaler()\n",
    "X_train_std = scale.fit_transform(X_train)\n",
    "X_test_std = scale.transform(X_test)"
   ]
  },
  {
   "cell_type": "code",
   "execution_count": 198,
   "id": "4e8dc080",
   "metadata": {},
   "outputs": [
    {
     "data": {
      "text/plain": [
       "RidgeCV(alphas=array([0.1, 1. , 0. ]),\n",
       "        cv=KFold(n_splits=3, random_state=None, shuffle=True))"
      ]
     },
     "execution_count": 198,
     "metadata": {},
     "output_type": "execute_result"
    }
   ],
   "source": [
    "#apply ridge regression includinng cross validation\n",
    "cv = KFold(n_splits = 3, shuffle = True)\n",
    "model = RidgeCV(alphas=[0.1, 1.0, 0], cv = cv)\n",
    "model.fit(X_train_std, y_train)"
   ]
  },
  {
   "cell_type": "code",
   "execution_count": 199,
   "id": "a11a805e",
   "metadata": {},
   "outputs": [
    {
     "name": "stdout",
     "output_type": "stream",
     "text": [
      "Mean Squared : 24728.3\n",
      "Root Mean Squared Error : 157.25\n",
      "Mean Absolute Error: 20.17\n",
      "R-squared : 0.84\n"
     ]
    }
   ],
   "source": [
    "#predict on test \n",
    "y_pred = model.predict(X_test_std)\n",
    "\n",
    "#Calculate MSE and MAE \n",
    "MSE = metrics.mean_squared_error(y_test, y_pred)\n",
    "RMSE = np.sqrt(MSE)\n",
    "MAE = metrics.mean_absolute_error(y_test, y_pred)\n",
    "r2 =  metrics.r2_score(y_test, y_pred)\n",
    "\n",
    "print(\"Mean Squared Error : {0}\\nRoot Mean Squared Error : {1}\\nMean Absolute Error: {2}\\nR-squared : {3}\".format(round(MSE,2),round(RMSE,2),round(MAE,2),round(r2,2)))"
   ]
  },
  {
   "cell_type": "code",
   "execution_count": 221,
   "id": "19ad7580",
   "metadata": {},
   "outputs": [
    {
     "name": "stdout",
     "output_type": "stream",
     "text": [
      "[('#Favorites', 366.96647436115927),\n",
      " ('#Friends', 4.444923524955024),\n",
      " ('Tweet ID', 3.857476987561711),\n",
      " ('Entities', 3.578382040783914),\n",
      " ('#Hashtags', 2.092010070354886),\n",
      " ('#Mentions', -0.20907502467887656),\n",
      " ('PositiveSentiment', -0.9729739400379097),\n",
      " ('Hour', -1.5194073770247425),\n",
      " ('NegativeSentiment', -2.4734699782469898),\n",
      " ('Day', -3.753401194138635),\n",
      " ('#Followers', -11.739595804062391)]\n"
     ]
    }
   ],
   "source": [
    "# Columns and their weights \n",
    "pprint(sorted(list(zip(list(X.columns), model.coef_)), key = lambda x:x[1], reverse = True))"
   ]
  },
  {
   "cell_type": "markdown",
   "id": "2a2f0587",
   "metadata": {},
   "source": [
    "#### Feature Interpretation : \n",
    "- Though most of the features showed a very small correlation in the correlation table, we can see that most of them have a significant weight. However, the highest effect was from the Favourites feature.\n",
    "- Followers shows a negative coefficient of -11 even though the correlation coefficient was a small positive number (0.13)"
   ]
  },
  {
   "cell_type": "markdown",
   "id": "9690f148",
   "metadata": {},
   "source": [
    "## Comparison of the two models : \n",
    "\n",
    "   - Though both the Random forest and the Ridge Regression model have the exact same R-squared score of 0.84, we can see that Random Forest Model has lower RMSE, MAE and MSE compared to Ridge Regression. \n",
    "   - The fit for both the models are good, as seen on the scatter plot. \n",
    "   - Based on the Random Forest model, the Followers, Tweet ID, Favourites are the top 3 significant variables. \n",
    "   - Based on the Ridge Regression Model, #Favourites, #Followers and TweetID are the most significantly weighted variables. \n",
    "   \n",
    "#### Both models have a similar effect. However, the Random Forest model outperforms the Ridge Regression model by a small margin."
   ]
  },
  {
   "cell_type": "code",
   "execution_count": null,
   "id": "96780626",
   "metadata": {},
   "outputs": [],
   "source": []
  }
 ],
 "metadata": {
  "kernelspec": {
   "display_name": "Python 3 (ipykernel)",
   "language": "python",
   "name": "python3"
  },
  "language_info": {
   "codemirror_mode": {
    "name": "ipython",
    "version": 3
   },
   "file_extension": ".py",
   "mimetype": "text/x-python",
   "name": "python",
   "nbconvert_exporter": "python",
   "pygments_lexer": "ipython3",
   "version": "3.9.5"
  }
 },
 "nbformat": 4,
 "nbformat_minor": 5
}
