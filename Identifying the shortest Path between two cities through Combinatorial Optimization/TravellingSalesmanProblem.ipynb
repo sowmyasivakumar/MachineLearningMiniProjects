{
 "cells": [
  {
   "cell_type": "markdown",
   "id": "6c6788f8",
   "metadata": {},
   "source": [
    "## Homework 1 - Part 1 \n",
    "## Implementation of the Travelling Salesman Problem using Google ORTools\n",
    "####  Name : Sowmya Sivakumar\n",
    "#### Andrew ID : sowmyasi@andrew.cmu.edu\n",
    "\n",
    "#### Objective : To find the shortest cirtcuit route starting from a given city, while visiting each city and returning to the origin"
   ]
  },
  {
   "cell_type": "code",
   "execution_count": 1,
   "id": "b76a66e7",
   "metadata": {},
   "outputs": [],
   "source": [
    "import numpy as np\n",
    "import math \n",
    "import os\n",
    "from ortools.constraint_solver import pywrapcp \n",
    "from ortools.constraint_solver import routing_enums_pb2"
   ]
  },
  {
   "cell_type": "code",
   "execution_count": 2,
   "id": "b023ae3e",
   "metadata": {},
   "outputs": [],
   "source": [
    "#read locations into numpy array \n",
    "locations = np.loadtxt(\"p1-locations.txt\", dtype = 'str', delimiter = '\\n')\n",
    "\n",
    "#read distance matrix into numpy matrix\n",
    "distanceMatrix = np.genfromtxt(\"p1-distances.csv\", dtype = int, delimiter = \",\")\n"
   ]
  },
  {
   "cell_type": "code",
   "execution_count": 3,
   "id": "90d886d4",
   "metadata": {},
   "outputs": [],
   "source": [
    "#creating the data model \n",
    "def create_data_model():\n",
    "    \"\"\"Stores the data for the problem.\"\"\"\n",
    "    data = {}\n",
    "    data['distance_matrix'] = distanceMatrix\n",
    "    data['num_vehicles'] = 1\n",
    "    data['depot'] = 1\n",
    "    return data"
   ]
  },
  {
   "cell_type": "code",
   "execution_count": 4,
   "id": "cd4f9d6d",
   "metadata": {},
   "outputs": [],
   "source": [
    "def print_solution(manager, routing, solution):\n",
    "    \"\"\"Prints solution on console.\"\"\"\n",
    "    print('Objective: {} miles'.format(solution.ObjectiveValue()))\n",
    "    index = routing.Start(0)\n",
    "    plan_output = 'Route for vehicle 0:\\n'\n",
    "    route_distance = 0\n",
    "    while not routing.IsEnd(index):\n",
    "        plan_output += ' {} ->'.format(manager.IndexToNode(index))\n",
    "        previous_index = index\n",
    "        index = solution.Value(routing.NextVar(index))\n",
    "        route_distance += routing.GetArcCostForVehicle(previous_index, index, 0)\n",
    "    plan_output += ' {}\\n'.format(manager.IndexToNode(index))\n",
    "    print(plan_output)\n",
    "    plan_output += 'Route distance: {}miles\\n'.format(route_distance)"
   ]
  },
  {
   "cell_type": "code",
   "execution_count": 5,
   "id": "8fe19f56",
   "metadata": {},
   "outputs": [],
   "source": [
    "def main():\n",
    "\n",
    "    #create data model     \n",
    "    data = create_data_model()\n",
    "    manager = pywrapcp.RoutingIndexManager(len(data['distance_matrix']),\n",
    "                                           data['num_vehicles'], data['depot'])\n",
    "    routing = pywrapcp.RoutingModel(manager)\n",
    "    \n",
    "    def distance_callback(from_index, to_index):\n",
    "        \"\"\"Returns the distance between the two nodes.\"\"\"\n",
    "        # Convert from routing variable Index to distance matrix NodeIndex.\n",
    "        from_node = manager.IndexToNode(from_index)\n",
    "        to_node = manager.IndexToNode(to_index)\n",
    "        return data['distance_matrix'][from_node][to_node]\n",
    "\n",
    "    transit_callback_index = routing.RegisterTransitCallback(distance_callback)\n",
    "    \n",
    "      # Define cost of each arc.\n",
    "    routing.SetArcCostEvaluatorOfAllVehicles(transit_callback_index)\n",
    "\n",
    "    # Setting first solution heuristic.\n",
    "    search_parameters = pywrapcp.DefaultRoutingSearchParameters()\n",
    "    search_parameters.first_solution_strategy = (\n",
    "        routing_enums_pb2.FirstSolutionStrategy.PATH_CHEAPEST_ARC)\n",
    "\n",
    "    # Solve the problem.\n",
    "    solution = routing.SolveWithParameters(search_parameters)\n",
    "\n",
    "    # Print solution on console.\n",
    "    if solution:\n",
    "        print_solution(manager, routing, solution)\n"
   ]
  },
  {
   "cell_type": "code",
   "execution_count": 6,
   "id": "be9ea11d",
   "metadata": {},
   "outputs": [
    {
     "name": "stdout",
     "output_type": "stream",
     "text": [
      "Objective: 42980 miles\n",
      "Route for vehicle 0:\n",
      " 1 -> 4 -> 7 -> 5 -> 6 -> 2 -> 9 -> 0 -> 3 -> 8 -> 1\n",
      "\n"
     ]
    }
   ],
   "source": [
    "  \n",
    "if __name__ == '__main__':\n",
    "    main()"
   ]
  },
  {
   "cell_type": "markdown",
   "id": "96de4efc",
   "metadata": {},
   "source": [
    "\n",
    "\n",
    "#### The shortest possible circuit route starting from Teide, Spain that visits each city and returns to the origin is as follows :\n",
    "#### Teide, Spain -> Montreal, Canada -> Brisbane, Australia -> Itsukushima Shrine, Japan -> Shanghai, China ->\n",
    "#### ->Tallinn, Estonia -> Stockholm, Sweden -> St. Stephan's Cathedral, Austria -> Brugge, Belgium -> Edinburgh, Scotland -> Teide, Spain\n",
    "#### The route distance is 42,980 miles\n",
    "####  It uses the PATH_CHEAPEST_ARC parameter, which is the search mechanism used in this case. Starting from a route \"start\" node, it connects to the node which produces the cheapest route segment, then extends the route by iterating on the last node added to the route. It is a lowest-cost-first-search mechanism.\n"
   ]
  },
  {
   "cell_type": "code",
   "execution_count": null,
   "id": "b8d89689",
   "metadata": {},
   "outputs": [],
   "source": []
  }
 ],
 "metadata": {
  "kernelspec": {
   "display_name": "Python 3 (ipykernel)",
   "language": "python",
   "name": "python3"
  },
  "language_info": {
   "codemirror_mode": {
    "name": "ipython",
    "version": 3
   },
   "file_extension": ".py",
   "mimetype": "text/x-python",
   "name": "python",
   "nbconvert_exporter": "python",
   "pygments_lexer": "ipython3",
   "version": "3.9.5"
  }
 },
 "nbformat": 4,
 "nbformat_minor": 5
}
