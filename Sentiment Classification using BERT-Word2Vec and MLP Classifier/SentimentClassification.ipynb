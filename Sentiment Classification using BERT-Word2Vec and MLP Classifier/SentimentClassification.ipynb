{
 "cells": [
  {
   "cell_type": "code",
   "execution_count": 61,
   "id": "e10fe557",
   "metadata": {},
   "outputs": [
    {
     "name": "stderr",
     "output_type": "stream",
     "text": [
      "[nltk_data] Downloading package stopwords to C:\\Users\\Sowmya\n",
      "[nltk_data]     Sivakumar\\AppData\\Roaming\\nltk_data...\n",
      "[nltk_data]   Package stopwords is already up-to-date!\n",
      "[nltk_data] Downloading package punkt to C:\\Users\\Sowmya\n",
      "[nltk_data]     Sivakumar\\AppData\\Roaming\\nltk_data...\n",
      "[nltk_data]   Package punkt is already up-to-date!\n"
     ]
    }
   ],
   "source": [
    "import numpy as np\n",
    "import pandas as pd\n",
    "import nltk\n",
    "import seaborn as sns\n",
    "from nltk.corpus import stopwords\n",
    "import timeit\n",
    "nltk.download('stopwords')\n",
    "nltk.download('punkt')\n",
    "from nltk.tokenize import word_tokenize\n",
    "import gensim\n",
    "from gensim import models\n",
    "from gensim.models import KeyedVectors\n",
    "import gensim.downloader as api\n",
    "\n",
    "import sklearn\n",
    "from sklearn.preprocessing import LabelEncoder\n",
    "from sklearn.feature_extraction.text import CountVectorizer,TfidfTransformer\n",
    "from sklearn.linear_model import SGDClassifier\n",
    "from sklearn.neural_network import MLPClassifier\n",
    "from sklearn.metrics import accuracy_score,confusion_matrix, f1_score\n"
   ]
  },
  {
   "cell_type": "code",
   "execution_count": 2,
   "id": "1a54abc2",
   "metadata": {},
   "outputs": [],
   "source": [
    "#import files\n",
    "train_data = pd.read_csv('train.csv', usecols =['utterance','context'])\n",
    "valid_data = pd.read_csv('valid.csv', usecols =['utterance','context'])\n",
    "test_data = pd.read_csv('test.csv',usecols =['utterance','context'])\n"
   ]
  },
  {
   "cell_type": "code",
   "execution_count": 3,
   "id": "43739848",
   "metadata": {},
   "outputs": [],
   "source": [
    "#filter out only {sad, joyful,jealous, terrified}\n",
    "train_data_list_filtered = train_data[train_data['context'].isin(['sad','jealous','joyful','terrified'])]\n",
    "valid_data_list_filtered = valid_data[valid_data['context'].isin(['sad','jealous','joyful','terrified'])]\n",
    "test_data_list_filtered = test_data[test_data['context'].isin(['sad','jealous','joyful','terrified'])]"
   ]
  },
  {
   "cell_type": "code",
   "execution_count": 4,
   "id": "70e1dcee",
   "metadata": {},
   "outputs": [],
   "source": [
    "#encoding training labels \n",
    "encoder = LabelEncoder()\n",
    "train_labels_encoded = encoder.fit_transform(train_data_list_filtered['context'])\n",
    "\n",
    "#encode test labels \n",
    "test_labels_encoded = encoder.transform(test_data_list_filtered['context'])\n",
    "\n",
    "labels_dict = dict(list(zip([0,1,2,3],encoder.inverse_transform([0,1,2,3]))))"
   ]
  },
  {
   "cell_type": "code",
   "execution_count": 5,
   "id": "255a7e80",
   "metadata": {},
   "outputs": [],
   "source": [
    "train_data_list = train_data_list_filtered['utterance']\n",
    "valid_data_list = valid_data_list_filtered['utterance']\n",
    "test_data_list = test_data_list_filtered['utterance']\n"
   ]
  },
  {
   "cell_type": "markdown",
   "id": "070e72b0",
   "metadata": {},
   "source": [
    "### Data Preprocessing\n",
    "#### 1.Bag of Words Representation"
   ]
  },
  {
   "cell_type": "code",
   "execution_count": 6,
   "id": "142afad3",
   "metadata": {},
   "outputs": [
    {
     "name": "stdout",
     "output_type": "stream",
     "text": [
      "Array size : 87516601\n",
      "Non-zero counts : 117669\n",
      "Percentage : 0.0013445334788539148\n"
     ]
    }
   ],
   "source": [
    "#Bag of Words Representation\n",
    "vectorizer = CountVectorizer()\n",
    "X = vectorizer.fit_transform(train_data_list)\n",
    "encoding = X.toarray()\n",
    "\n",
    "#counting words that are greater than zero(since Bag of Words tends to give sparse representations)\n",
    "nonzero_counts = np.count_nonzero(encoding)\n",
    "nonzero_percentage = nonzero_counts/encoding.size\n",
    "\n",
    "print(\"Array size : {0}\".format(encoding.size))\n",
    "print(\"Non-zero counts : {0}\".format(nonzero_counts))\n",
    "print(\"Percentage : {0}\".format(nonzero_percentage))"
   ]
  },
  {
   "cell_type": "markdown",
   "id": "e39aa169",
   "metadata": {},
   "source": [
    "#### Shortcoming of this representation of features is that :\n",
    "- They can be very sparse. As shown above, only 0.13% of the table is populated. The table size can get very large and not give enough information, if we take the size of the table into consideration.\n",
    "- They do not take into account the order/context of the words. "
   ]
  },
  {
   "cell_type": "code",
   "execution_count": 7,
   "id": "1bb71a22",
   "metadata": {
    "scrolled": true
   },
   "outputs": [
    {
     "name": "stdout",
     "output_type": "stream",
     "text": [
      "Array size : 86840608\n",
      "Non-zero counts : 64604\n",
      "Percentage : 0.000743937674872106\n"
     ]
    }
   ],
   "source": [
    "#removal of stop words \n",
    "stopwords = list(set(stopwords.words('english')))\n",
    "stopwords.extend(['_comma_', ''])  \n",
    "train_data_list_cleaned = train_data_list.apply(lambda x: [w for w in word_tokenize(x) if not w.lower() in stopwords])\n",
    "train_data_list_cleaned_fnl = train_data_list_cleaned.str.join(' ')\n",
    "\n",
    "test_data_list_cleaned = test_data_list.apply(lambda x: [w for w in word_tokenize(x) if not w.lower() in stopwords])\n",
    "test_data_list_cleaned_fnl = test_data_list_cleaned.str.join(' ')\n",
    "\n",
    "#Convert to Bag of Words now and check Sparsity\n",
    "#Bag of Words Representation\n",
    "vectorizer = CountVectorizer()\n",
    "train_data_bow = vectorizer.fit_transform(train_data_list_cleaned_fnl)\n",
    "train_data_BoW_arr = train_data_bow.toarray()\n",
    "\n",
    "#counting words that are greater than zero(since Bag of Words tends to give sparse representations)\n",
    "nonzero_counts = np.count_nonzero(train_data_BoW_arr)\n",
    "nonzero_percentage = nonzero_counts/train_data_BoW_arr.size\n",
    "\n",
    "print(\"Array size : {0}\".format(train_data_BoW_arr.size))\n",
    "print(\"Non-zero counts : {0}\".format(nonzero_counts))\n",
    "print(\"Percentage : {0}\".format(nonzero_percentage))"
   ]
  },
  {
   "cell_type": "markdown",
   "id": "52642f94",
   "metadata": {},
   "source": [
    "#### 2. TF-IDF Normalization"
   ]
  },
  {
   "cell_type": "code",
   "execution_count": 8,
   "id": "fe12c3e3",
   "metadata": {},
   "outputs": [],
   "source": [
    "#training data\n",
    "train_tfidf_transformer = TfidfTransformer(smooth_idf=True,use_idf=True)\n",
    "train_data_tfidf_transformed = train_tfidf_transformer.fit_transform(train_data_bow)\n",
    "train_data_tfidf = train_data_tfidf_transformed.toarray()      \n"
   ]
  },
  {
   "cell_type": "code",
   "execution_count": 9,
   "id": "219e9914",
   "metadata": {},
   "outputs": [
    {
     "name": "stdout",
     "output_type": "stream",
     "text": [
      "(9797, 8864)\n",
      "                       TF-IDF\n",
      "bullets_comma_       0.375423\n",
      "microscope           0.375423\n",
      "sweat                0.348022\n",
      "uncomfortable        0.339201\n",
      "interviews           0.339201\n",
      "general              0.320621\n",
      "looked               0.278873\n",
      "makes                0.214568\n",
      "job                  0.209205\n",
      "make                 0.196670\n",
      "always               0.185675\n",
      "like                 0.152812\n",
      "overlooking          0.000000\n",
      "overhwleming         0.000000\n",
      "overjoyed            0.000000\n",
      "overqualified        0.000000\n",
      "overnight_comma_     0.000000\n",
      "overprotective       0.000000\n",
      "overreacting_comma_  0.000000\n",
      "overshares           0.000000\n",
      "overthinking         0.000000\n",
      "overheated           0.000000\n",
      "overeating           0.000000\n",
      "overflow             0.000000\n",
      "overtrusted          0.000000\n"
     ]
    }
   ],
   "source": [
    "#check how the transformation looks \n",
    "print(train_data_tfidf.shape)\n",
    "\n",
    "df = pd.DataFrame(train_data_tfidf_transformed[0].T.todense(), index=vectorizer.get_feature_names_out(), columns=[\"TF-IDF\"])\n",
    "df = df.sort_values('TF-IDF', ascending=False)\n",
    "print (df.head(25))"
   ]
  },
  {
   "cell_type": "markdown",
   "id": "6522018b",
   "metadata": {},
   "source": [
    "#### 3.Building an SGD Classifier for Multi-Class classification"
   ]
  },
  {
   "cell_type": "code",
   "execution_count": 10,
   "id": "4a1fbb94",
   "metadata": {},
   "outputs": [
    {
     "data": {
      "text/plain": [
       "SGDClassifier(loss='log')"
      ]
     },
     "execution_count": 10,
     "metadata": {},
     "output_type": "execute_result"
    }
   ],
   "source": [
    "X_train = train_data_tfidf_transformed\n",
    "y_train = train_labels_encoded\n",
    "model = SGDClassifier(loss = 'log')\n",
    "model.fit(X_train,y_train)\n",
    "\n"
   ]
  },
  {
   "cell_type": "code",
   "execution_count": 11,
   "id": "c40902a3",
   "metadata": {},
   "outputs": [],
   "source": [
    "#testdata transformation using training data\n",
    "test_data_bow = vectorizer.transform(test_data_list_cleaned_fnl)\n",
    "test_data_BoW_arr = test_data_bow.toarray()\n",
    "\n",
    "test_data_tfidf_transformed = train_tfidf_transformer.transform(test_data_bow)\n",
    "test_data_tfidf = test_data_tfidf_transformed.toarray()      "
   ]
  },
  {
   "cell_type": "code",
   "execution_count": 12,
   "id": "bf639ca6",
   "metadata": {},
   "outputs": [],
   "source": [
    "#perform predictions\n",
    "X_test = test_data_tfidf_transformed\n",
    "y_pred = model.predict(X_test)\n",
    "y_test = test_labels_encoded"
   ]
  },
  {
   "cell_type": "code",
   "execution_count": 13,
   "id": "44886df8",
   "metadata": {},
   "outputs": [
    {
     "name": "stdout",
     "output_type": "stream",
     "text": [
      "Accuracy : 0.6194625998547567\n",
      "F-score : 0.6194625998547567\n"
     ]
    },
    {
     "data": {
      "text/plain": [
       "<AxesSubplot:>"
      ]
     },
     "execution_count": 13,
     "metadata": {},
     "output_type": "execute_result"
    },
    {
     "data": {
      "image/png": "[encoded data removed]",
      "text/plain": [
       "<Figure size 432x288 with 2 Axes>"
      ]
     },
     "metadata": {
      "needs_background": "light"
     },
     "output_type": "display_data"
    }
   ],
   "source": [
    "accuracy = accuracy_score(y_test, y_pred)\n",
    "f1_score = f1_score(y_test, y_pred, average = 'micro')\n",
    "cf_matrix = confusion_matrix(y_test, y_pred)\n",
    "\n",
    "print(\"Accuracy : {0}\\nF-score : {1}\".format(accuracy,f1_score))\n",
    "sns.heatmap(cf_matrix, annot=True)"
   ]
  },
  {
   "cell_type": "markdown",
   "id": "8e4aacf5",
   "metadata": {},
   "source": [
    "#### 4. Using Word2Vec Embeddings (Google Word2Vec)"
   ]
  },
  {
   "cell_type": "code",
   "execution_count": 27,
   "id": "7ab8e3b3",
   "metadata": {},
   "outputs": [
    {
     "data": {
      "text/plain": [
       "300"
      ]
     },
     "execution_count": 27,
     "metadata": {},
     "output_type": "execute_result"
    }
   ],
   "source": [
    "#download the model and return as object ready for use\n",
    "model = api.load(\"word2vec-google-news-300\") \n",
    "\n",
    "#check model size\n",
    "model.vector_size"
   ]
  },
  {
   "cell_type": "markdown",
   "id": "70444e31",
   "metadata": {},
   "source": [
    "#### To get the vector for each training instance, we will take a weighted avg of all the word-vectors for that instance, weighted on the number of occurences of the word. \n",
    "\n",
    "For example, \"This is a cat without a tail\" would be converted as :\n",
    "            docVector = 1/7 [1(wv(this)) + 1(wv(is)) + 2(wv(a)) + 1(wv(cat)) + 1(wv(without)) + 1(wv(tail))]\n",
    "\n",
    "Steps : \n",
    "1. Filter out the word vector for the words present in the training instances\n",
    "2. Convert each instance to a doc vec based on following steps :\n",
    "    - Get list of unique words in the instance \n",
    "    - Get the occurence of each unique word\n",
    "    - Get vectors corresponding to each word\n",
    "    - Do a weighted avg with the weights as the number of occurences \n",
    "3. Repeat for all instances of training data"
   ]
  },
  {
   "cell_type": "code",
   "execution_count": 73,
   "id": "21b31be6",
   "metadata": {},
   "outputs": [],
   "source": [
    "def doc2vec(doc):\n",
    "    \n",
    "    docWords = [word for word in doc if word in list(model.index_to_key)] # check if word is in vocab\n",
    "    if len(docWords)!=0 :\n",
    "        modelVectorDict = {word:model[word] for word in docWords} # word : Vector\n",
    "        uniqueWords, wordCounts = np.unique(docWords, return_counts = True) \n",
    "        wordCountDict = dict(zip( uniqueWords, wordCounts)) #word : Number of occurences\n",
    "\n",
    "        modelVectorDict =  dict(sorted(modelVectorDict.items()))\n",
    "        wordCountDict =  dict(sorted(wordCountDict.items()))\n",
    "        wordVectors = np.array(list(modelVectorDict.values()))\n",
    "\n",
    "        docVec = np.average(wordVectors,axis=0, weights = list(wordCountDict.values()))\n",
    "        return docVec\n",
    "    else: \n",
    "        return None\n",
    "    \n",
    "\n",
    "    "
   ]
  },
  {
   "cell_type": "code",
   "execution_count": 74,
   "id": "8919e790",
   "metadata": {},
   "outputs": [
    {
     "ename": "KeyboardInterrupt",
     "evalue": "",
     "output_type": "error",
     "traceback": [
      "\u001b[1;31m---------------------------------------------------------------------------\u001b[0m",
      "\u001b[1;31mKeyboardInterrupt\u001b[0m                         Traceback (most recent call last)",
      "\u001b[1;32mC:\\Users\\SOWMYA~1\\AppData\\Local\\Temp/ipykernel_22744/576188960.py\u001b[0m in \u001b[0;36m<module>\u001b[1;34m\u001b[0m\n\u001b[0;32m      1\u001b[0m \u001b[0mstart\u001b[0m \u001b[1;33m=\u001b[0m \u001b[0mtimeit\u001b[0m\u001b[1;33m.\u001b[0m\u001b[0mtimeit\u001b[0m\u001b[1;33m(\u001b[0m\u001b[1;33m)\u001b[0m\u001b[1;33m\u001b[0m\u001b[1;33m\u001b[0m\u001b[0m\n\u001b[1;32m----> 2\u001b[1;33m \u001b[0mDoc2Vec\u001b[0m \u001b[1;33m=\u001b[0m \u001b[0mtrain_data_list_cleaned_fnl\u001b[0m\u001b[1;33m.\u001b[0m\u001b[0mapply\u001b[0m\u001b[1;33m(\u001b[0m\u001b[1;32mlambda\u001b[0m \u001b[0mdoc\u001b[0m\u001b[1;33m:\u001b[0m \u001b[0mdoc2vec\u001b[0m\u001b[1;33m(\u001b[0m\u001b[0mword_tokenize\u001b[0m\u001b[1;33m(\u001b[0m\u001b[0mdoc\u001b[0m\u001b[1;33m)\u001b[0m\u001b[1;33m)\u001b[0m\u001b[1;33m)\u001b[0m\u001b[1;33m\u001b[0m\u001b[1;33m\u001b[0m\u001b[0m\n\u001b[0m\u001b[0;32m      3\u001b[0m \u001b[0mend\u001b[0m \u001b[1;33m=\u001b[0m \u001b[0mtimeit\u001b[0m\u001b[1;33m.\u001b[0m\u001b[0mtimeit\u001b[0m\u001b[1;33m(\u001b[0m\u001b[1;33m)\u001b[0m\u001b[1;33m\u001b[0m\u001b[1;33m\u001b[0m\u001b[0m\n\u001b[0;32m      4\u001b[0m \u001b[1;33m\u001b[0m\u001b[0m\n\u001b[0;32m      5\u001b[0m \u001b[0mprint\u001b[0m\u001b[1;33m(\u001b[0m\u001b[0mend\u001b[0m \u001b[1;33m-\u001b[0m \u001b[0mstart\u001b[0m\u001b[1;33m)\u001b[0m\u001b[1;33m\u001b[0m\u001b[1;33m\u001b[0m\u001b[0m\n",
      "\u001b[1;32mC:\\Miniconda\\lib\\site-packages\\pandas\\core\\series.py\u001b[0m in \u001b[0;36mapply\u001b[1;34m(self, func, convert_dtype, args, **kwargs)\u001b[0m\n\u001b[0;32m   4355\u001b[0m         \u001b[0mdtype\u001b[0m\u001b[1;33m:\u001b[0m \u001b[0mfloat64\u001b[0m\u001b[1;33m\u001b[0m\u001b[1;33m\u001b[0m\u001b[0m\n\u001b[0;32m   4356\u001b[0m         \"\"\"\n\u001b[1;32m-> 4357\u001b[1;33m         \u001b[1;32mreturn\u001b[0m \u001b[0mSeriesApply\u001b[0m\u001b[1;33m(\u001b[0m\u001b[0mself\u001b[0m\u001b[1;33m,\u001b[0m \u001b[0mfunc\u001b[0m\u001b[1;33m,\u001b[0m \u001b[0mconvert_dtype\u001b[0m\u001b[1;33m,\u001b[0m \u001b[0margs\u001b[0m\u001b[1;33m,\u001b[0m \u001b[0mkwargs\u001b[0m\u001b[1;33m)\u001b[0m\u001b[1;33m.\u001b[0m\u001b[0mapply\u001b[0m\u001b[1;33m(\u001b[0m\u001b[1;33m)\u001b[0m\u001b[1;33m\u001b[0m\u001b[1;33m\u001b[0m\u001b[0m\n\u001b[0m\u001b[0;32m   4358\u001b[0m \u001b[1;33m\u001b[0m\u001b[0m\n\u001b[0;32m   4359\u001b[0m     def _reduce(\n",
      "\u001b[1;32mC:\\Miniconda\\lib\\site-packages\\pandas\\core\\apply.py\u001b[0m in \u001b[0;36mapply\u001b[1;34m(self)\u001b[0m\n\u001b[0;32m   1041\u001b[0m             \u001b[1;32mreturn\u001b[0m \u001b[0mself\u001b[0m\u001b[1;33m.\u001b[0m\u001b[0mapply_str\u001b[0m\u001b[1;33m(\u001b[0m\u001b[1;33m)\u001b[0m\u001b[1;33m\u001b[0m\u001b[1;33m\u001b[0m\u001b[0m\n\u001b[0;32m   1042\u001b[0m \u001b[1;33m\u001b[0m\u001b[0m\n\u001b[1;32m-> 1043\u001b[1;33m         \u001b[1;32mreturn\u001b[0m \u001b[0mself\u001b[0m\u001b[1;33m.\u001b[0m\u001b[0mapply_standard\u001b[0m\u001b[1;33m(\u001b[0m\u001b[1;33m)\u001b[0m\u001b[1;33m\u001b[0m\u001b[1;33m\u001b[0m\u001b[0m\n\u001b[0m\u001b[0;32m   1044\u001b[0m \u001b[1;33m\u001b[0m\u001b[0m\n\u001b[0;32m   1045\u001b[0m     \u001b[1;32mdef\u001b[0m \u001b[0magg\u001b[0m\u001b[1;33m(\u001b[0m\u001b[0mself\u001b[0m\u001b[1;33m)\u001b[0m\u001b[1;33m:\u001b[0m\u001b[1;33m\u001b[0m\u001b[1;33m\u001b[0m\u001b[0m\n",
      "\u001b[1;32mC:\\Miniconda\\lib\\site-packages\\pandas\\core\\apply.py\u001b[0m in \u001b[0;36mapply_standard\u001b[1;34m(self)\u001b[0m\n\u001b[0;32m   1096\u001b[0m                 \u001b[1;31m# List[Union[Callable[..., Any], str]]]]]\"; expected\u001b[0m\u001b[1;33m\u001b[0m\u001b[1;33m\u001b[0m\u001b[1;33m\u001b[0m\u001b[0m\n\u001b[0;32m   1097\u001b[0m                 \u001b[1;31m# \"Callable[[Any], Any]\"\u001b[0m\u001b[1;33m\u001b[0m\u001b[1;33m\u001b[0m\u001b[1;33m\u001b[0m\u001b[0m\n\u001b[1;32m-> 1098\u001b[1;33m                 mapped = lib.map_infer(\n\u001b[0m\u001b[0;32m   1099\u001b[0m                     \u001b[0mvalues\u001b[0m\u001b[1;33m,\u001b[0m\u001b[1;33m\u001b[0m\u001b[1;33m\u001b[0m\u001b[0m\n\u001b[0;32m   1100\u001b[0m                     \u001b[0mf\u001b[0m\u001b[1;33m,\u001b[0m  \u001b[1;31m# type: ignore[arg-type]\u001b[0m\u001b[1;33m\u001b[0m\u001b[1;33m\u001b[0m\u001b[0m\n",
      "\u001b[1;32mC:\\Miniconda\\lib\\site-packages\\pandas\\_libs\\lib.pyx\u001b[0m in \u001b[0;36mpandas._libs.lib.map_infer\u001b[1;34m()\u001b[0m\n",
      "\u001b[1;32mC:\\Users\\SOWMYA~1\\AppData\\Local\\Temp/ipykernel_22744/576188960.py\u001b[0m in \u001b[0;36m<lambda>\u001b[1;34m(doc)\u001b[0m\n\u001b[0;32m      1\u001b[0m \u001b[0mstart\u001b[0m \u001b[1;33m=\u001b[0m \u001b[0mtimeit\u001b[0m\u001b[1;33m.\u001b[0m\u001b[0mtimeit\u001b[0m\u001b[1;33m(\u001b[0m\u001b[1;33m)\u001b[0m\u001b[1;33m\u001b[0m\u001b[1;33m\u001b[0m\u001b[0m\n\u001b[1;32m----> 2\u001b[1;33m \u001b[0mDoc2Vec\u001b[0m \u001b[1;33m=\u001b[0m \u001b[0mtrain_data_list_cleaned_fnl\u001b[0m\u001b[1;33m.\u001b[0m\u001b[0mapply\u001b[0m\u001b[1;33m(\u001b[0m\u001b[1;32mlambda\u001b[0m \u001b[0mdoc\u001b[0m\u001b[1;33m:\u001b[0m \u001b[0mdoc2vec\u001b[0m\u001b[1;33m(\u001b[0m\u001b[0mword_tokenize\u001b[0m\u001b[1;33m(\u001b[0m\u001b[0mdoc\u001b[0m\u001b[1;33m)\u001b[0m\u001b[1;33m)\u001b[0m\u001b[1;33m)\u001b[0m\u001b[1;33m\u001b[0m\u001b[1;33m\u001b[0m\u001b[0m\n\u001b[0m\u001b[0;32m      3\u001b[0m \u001b[0mend\u001b[0m \u001b[1;33m=\u001b[0m \u001b[0mtimeit\u001b[0m\u001b[1;33m.\u001b[0m\u001b[0mtimeit\u001b[0m\u001b[1;33m(\u001b[0m\u001b[1;33m)\u001b[0m\u001b[1;33m\u001b[0m\u001b[1;33m\u001b[0m\u001b[0m\n\u001b[0;32m      4\u001b[0m \u001b[1;33m\u001b[0m\u001b[0m\n\u001b[0;32m      5\u001b[0m \u001b[0mprint\u001b[0m\u001b[1;33m(\u001b[0m\u001b[0mend\u001b[0m \u001b[1;33m-\u001b[0m \u001b[0mstart\u001b[0m\u001b[1;33m)\u001b[0m\u001b[1;33m\u001b[0m\u001b[1;33m\u001b[0m\u001b[0m\n",
      "\u001b[1;32mC:\\Users\\SOWMYA~1\\AppData\\Local\\Temp/ipykernel_22744/3460494839.py\u001b[0m in \u001b[0;36mdoc2vec\u001b[1;34m(doc)\u001b[0m\n\u001b[0;32m      1\u001b[0m \u001b[1;32mdef\u001b[0m \u001b[0mdoc2vec\u001b[0m\u001b[1;33m(\u001b[0m\u001b[0mdoc\u001b[0m\u001b[1;33m)\u001b[0m\u001b[1;33m:\u001b[0m\u001b[1;33m\u001b[0m\u001b[1;33m\u001b[0m\u001b[0m\n\u001b[0;32m      2\u001b[0m \u001b[1;33m\u001b[0m\u001b[0m\n\u001b[1;32m----> 3\u001b[1;33m     \u001b[0mdocWords\u001b[0m \u001b[1;33m=\u001b[0m \u001b[1;33m[\u001b[0m\u001b[0mword\u001b[0m \u001b[1;32mfor\u001b[0m \u001b[0mword\u001b[0m \u001b[1;32min\u001b[0m \u001b[0mdoc\u001b[0m \u001b[1;32mif\u001b[0m \u001b[0mword\u001b[0m \u001b[1;32min\u001b[0m \u001b[0mlist\u001b[0m\u001b[1;33m(\u001b[0m\u001b[0mmodel\u001b[0m\u001b[1;33m.\u001b[0m\u001b[0mindex_to_key\u001b[0m\u001b[1;33m)\u001b[0m\u001b[1;33m]\u001b[0m \u001b[1;31m# check if word is in vocab\u001b[0m\u001b[1;33m\u001b[0m\u001b[1;33m\u001b[0m\u001b[0m\n\u001b[0m\u001b[0;32m      4\u001b[0m     \u001b[1;32mif\u001b[0m \u001b[0mlen\u001b[0m\u001b[1;33m(\u001b[0m\u001b[0mdocWords\u001b[0m\u001b[1;33m)\u001b[0m\u001b[1;33m!=\u001b[0m\u001b[1;36m0\u001b[0m \u001b[1;33m:\u001b[0m\u001b[1;33m\u001b[0m\u001b[1;33m\u001b[0m\u001b[0m\n\u001b[0;32m      5\u001b[0m         \u001b[0mmodelVectorDict\u001b[0m \u001b[1;33m=\u001b[0m \u001b[1;33m{\u001b[0m\u001b[0mword\u001b[0m\u001b[1;33m:\u001b[0m\u001b[0mmodel\u001b[0m\u001b[1;33m[\u001b[0m\u001b[0mword\u001b[0m\u001b[1;33m]\u001b[0m \u001b[1;32mfor\u001b[0m \u001b[0mword\u001b[0m \u001b[1;32min\u001b[0m \u001b[0mdocWords\u001b[0m\u001b[1;33m}\u001b[0m \u001b[1;31m# word : Vector\u001b[0m\u001b[1;33m\u001b[0m\u001b[1;33m\u001b[0m\u001b[0m\n",
      "\u001b[1;32mC:\\Users\\SOWMYA~1\\AppData\\Local\\Temp/ipykernel_22744/3460494839.py\u001b[0m in \u001b[0;36m<listcomp>\u001b[1;34m(.0)\u001b[0m\n\u001b[0;32m      1\u001b[0m \u001b[1;32mdef\u001b[0m \u001b[0mdoc2vec\u001b[0m\u001b[1;33m(\u001b[0m\u001b[0mdoc\u001b[0m\u001b[1;33m)\u001b[0m\u001b[1;33m:\u001b[0m\u001b[1;33m\u001b[0m\u001b[1;33m\u001b[0m\u001b[0m\n\u001b[0;32m      2\u001b[0m \u001b[1;33m\u001b[0m\u001b[0m\n\u001b[1;32m----> 3\u001b[1;33m     \u001b[0mdocWords\u001b[0m \u001b[1;33m=\u001b[0m \u001b[1;33m[\u001b[0m\u001b[0mword\u001b[0m \u001b[1;32mfor\u001b[0m \u001b[0mword\u001b[0m \u001b[1;32min\u001b[0m \u001b[0mdoc\u001b[0m \u001b[1;32mif\u001b[0m \u001b[0mword\u001b[0m \u001b[1;32min\u001b[0m \u001b[0mlist\u001b[0m\u001b[1;33m(\u001b[0m\u001b[0mmodel\u001b[0m\u001b[1;33m.\u001b[0m\u001b[0mindex_to_key\u001b[0m\u001b[1;33m)\u001b[0m\u001b[1;33m]\u001b[0m \u001b[1;31m# check if word is in vocab\u001b[0m\u001b[1;33m\u001b[0m\u001b[1;33m\u001b[0m\u001b[0m\n\u001b[0m\u001b[0;32m      4\u001b[0m     \u001b[1;32mif\u001b[0m \u001b[0mlen\u001b[0m\u001b[1;33m(\u001b[0m\u001b[0mdocWords\u001b[0m\u001b[1;33m)\u001b[0m\u001b[1;33m!=\u001b[0m\u001b[1;36m0\u001b[0m \u001b[1;33m:\u001b[0m\u001b[1;33m\u001b[0m\u001b[1;33m\u001b[0m\u001b[0m\n\u001b[0;32m      5\u001b[0m         \u001b[0mmodelVectorDict\u001b[0m \u001b[1;33m=\u001b[0m \u001b[1;33m{\u001b[0m\u001b[0mword\u001b[0m\u001b[1;33m:\u001b[0m\u001b[0mmodel\u001b[0m\u001b[1;33m[\u001b[0m\u001b[0mword\u001b[0m\u001b[1;33m]\u001b[0m \u001b[1;32mfor\u001b[0m \u001b[0mword\u001b[0m \u001b[1;32min\u001b[0m \u001b[0mdocWords\u001b[0m\u001b[1;33m}\u001b[0m \u001b[1;31m# word : Vector\u001b[0m\u001b[1;33m\u001b[0m\u001b[1;33m\u001b[0m\u001b[0m\n",
      "\u001b[1;31mKeyboardInterrupt\u001b[0m: "
     ]
    }
   ],
   "source": [
    "start = timeit.timeit()\n",
    "Doc2Vec = train_data_list_cleaned_fnl.apply(lambda doc: doc2vec(word_tokenize(doc)))\n",
    "end = timeit.timeit()\n",
    "\n",
    "print(end - start)\n",
    "\n",
    "    \n"
   ]
  },
  {
   "cell_type": "code",
   "execution_count": null,
   "id": "4403613f",
   "metadata": {},
   "outputs": [],
   "source": []
  }
 ],
 "metadata": {
  "kernelspec": {
   "display_name": "Python 3 (ipykernel)",
   "language": "python",
   "name": "python3"
  },
  "language_info": {
   "codemirror_mode": {
    "name": "ipython",
    "version": 3
   },
   "file_extension": ".py",
   "mimetype": "text/x-python",
   "name": "python",
   "nbconvert_exporter": "python",
   "pygments_lexer": "ipython3",
   "version": "3.9.5"
  }
 },
 "nbformat": 4,
 "nbformat_minor": 5
}
