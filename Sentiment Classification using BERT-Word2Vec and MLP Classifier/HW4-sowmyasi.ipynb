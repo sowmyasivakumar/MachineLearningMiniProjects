{
 "cells": [
  {
   "cell_type": "markdown",
   "id": "4c1751cb",
   "metadata": {},
   "source": [
    "## Intro to Artificial Intelligence - HW4\n",
    "\n",
    "#### Name : Sowmya Sivakumar(sowmyasi@andrew.cmu.edu)\n",
    "\n",
    "### Objective : To predict the sentiment/emotion of an utterance using the Facebook AI Research Empathetic Dialogues dataset\n",
    "\n",
    "### Methods:\n",
    "     - Stochastic Gradient Descent Classifier based on Bag-of-words \n",
    "     - Stochastic Gradient Descent Classifier based on TF-IDF normalization\n",
    "     - Multi-layered Perceptron Classifier based on Word2vec embeddings obtained from Google Word2vec model\n",
    "     - Multi-layered Perceptron Classifier based on sentence embeddings obtained from Distil-BERT  model"
   ]
  },
  {
   "cell_type": "code",
   "execution_count": 141,
   "id": "e10fe557",
   "metadata": {
    "colab": {
     "base_uri": "https://localhost:8080/"
    },
    "id": "e10fe557",
    "outputId": "903facae-055b-4835-bfc3-92ec306cc163",
    "scrolled": true
   },
   "outputs": [
    {
     "name": "stderr",
     "output_type": "stream",
     "text": [
      "[nltk_data] Downloading package stopwords to C:\\Users\\Sowmya\n",
      "[nltk_data]     Sivakumar\\AppData\\Roaming\\nltk_data...\n",
      "[nltk_data]   Package stopwords is already up-to-date!\n",
      "[nltk_data] Downloading package punkt to C:\\Users\\Sowmya\n",
      "[nltk_data]     Sivakumar\\AppData\\Roaming\\nltk_data...\n",
      "[nltk_data]   Package punkt is already up-to-date!\n"
     ]
    }
   ],
   "source": [
    "import numpy as np\n",
    "import pandas as pd\n",
    "import nltk\n",
    "import seaborn as sns\n",
    "import time\n",
    "from nltk.corpus import stopwords\n",
    "import timeit\n",
    "nltk.download('stopwords')\n",
    "nltk.download('punkt')\n",
    "from nltk.tokenize import word_tokenize\n",
    "import gensim\n",
    "from gensim import models\n",
    "from gensim.models import KeyedVectors\n",
    "import gensim.downloader as api\n",
    "import datasets \n",
    "from datasets import Dataset\n",
    "import torch\n",
    "\n",
    "import sklearn\n",
    "from sklearn.preprocessing import LabelEncoder\n",
    "from sklearn.feature_extraction.text import CountVectorizer,TfidfTransformer\n",
    "from sklearn.linear_model import SGDClassifier\n",
    "from sklearn.neural_network import MLPClassifier\n",
    "from sklearn.metrics import accuracy_score,confusion_matrix, f1_score\n",
    "from transformers import DistilBertTokenizer, DistilBertModel\n"
   ]
  },
  {
   "cell_type": "markdown",
   "id": "31a2197a",
   "metadata": {},
   "source": [
    "#### 1. Data ETL"
   ]
  },
  {
   "cell_type": "code",
   "execution_count": 142,
   "id": "1a54abc2",
   "metadata": {
    "id": "1a54abc2"
   },
   "outputs": [],
   "source": [
    "#import files\n",
    "train_data_original = pd.read_csv('train.csv', usecols =['utterance','context'])\n",
    "valid_data = pd.read_csv('valid.csv', usecols =['utterance','context'])\n",
    "\n",
    "train_data = pd.concat([train_data_original,valid_data], ignore_index = True)\n",
    "test_data = pd.read_csv('test.csv',usecols =['utterance','context'])\n"
   ]
  },
  {
   "cell_type": "code",
   "execution_count": 143,
   "id": "43739848",
   "metadata": {
    "id": "43739848"
   },
   "outputs": [],
   "source": [
    "#filter out only {sad, joyful,jealous, terrified}\n",
    "train_data_list_filtered = train_data[train_data['context'].isin(['sad','jealous','joyful','terrified'])]\n",
    "test_data_list_filtered = test_data[test_data['context'].isin(['sad','jealous','joyful','terrified'])]\n",
    "\n",
    "#reset index\n",
    "train_data_list_filtered.reset_index(drop = True, inplace = True)\n",
    "test_data_list_filtered.reset_index(drop = True, inplace = True)"
   ]
  },
  {
   "cell_type": "code",
   "execution_count": 144,
   "id": "70e1dcee",
   "metadata": {
    "id": "70e1dcee"
   },
   "outputs": [],
   "source": [
    "#encoding training labels \n",
    "encoder = LabelEncoder()\n",
    "train_labels_encoded = encoder.fit_transform(train_data_list_filtered['context'])\n",
    "\n",
    "#encode test labels \n",
    "encoder = LabelEncoder()\n",
    "test_labels_encoded = encoder.fit_transform(test_data_list_filtered['context'])\n",
    "\n",
    "labels_dict = dict(list(zip([0,1,2,3],encoder.inverse_transform([0,1,2,3]))))"
   ]
  },
  {
   "cell_type": "code",
   "execution_count": 145,
   "id": "255a7e80",
   "metadata": {
    "id": "255a7e80"
   },
   "outputs": [],
   "source": [
    "train_data_list = train_data_list_filtered['utterance']\n",
    "test_data_list = test_data_list_filtered['utterance']\n"
   ]
  },
  {
   "cell_type": "markdown",
   "id": "070e72b0",
   "metadata": {
    "id": "070e72b0"
   },
   "source": [
    "#### 2. Feature Engineering : Bag of Words Representation"
   ]
  },
  {
   "cell_type": "code",
   "execution_count": 146,
   "id": "142afad3",
   "metadata": {
    "colab": {
     "base_uri": "https://localhost:8080/"
    },
    "id": "142afad3",
    "outputId": "57a8b187-4fbf-44d9-f750-aa16715631c9"
   },
   "outputs": [
    {
     "name": "stdout",
     "output_type": "stream",
     "text": [
      "Array size : 108299891\n",
      "Non-zero counts : 136631\n",
      "Percentage : 0.12615986843421662 %\n"
     ]
    }
   ],
   "source": [
    "#Bag of Words Representation\n",
    "vectorizer = CountVectorizer()\n",
    "X = vectorizer.fit_transform(train_data_list)\n",
    "encoding = X.toarray()\n",
    "\n",
    "#counting words that are greater than zero(since Bag of Words tends to give sparse representations)\n",
    "nonzero_counts = np.count_nonzero(encoding)\n",
    "nonzero_percentage = nonzero_counts/encoding.size\n",
    "\n",
    "print(\"Array size : {0}\".format(encoding.size))\n",
    "print(\"Non-zero counts : {0}\".format(nonzero_counts))\n",
    "print(\"Percentage : {0} %\".format(nonzero_percentage*100))"
   ]
  },
  {
   "cell_type": "markdown",
   "id": "e39aa169",
   "metadata": {
    "id": "e39aa169"
   },
   "source": [
    "#### 3. Shortcoming of this representation of features is that :\n",
    "- They can be very sparse. As shown above, only 0.13% of the table is populated. The table size can get very large and not give enough information, if we take the size of the table into consideration. There are many words which are not really adding value to the classifier like the, a, an, this.\n",
    "- They do not take into account the order/context of the words. "
   ]
  },
  {
   "cell_type": "code",
   "execution_count": 147,
   "id": "1bb71a22",
   "metadata": {
    "colab": {
     "base_uri": "https://localhost:8080/"
    },
    "id": "1bb71a22",
    "outputId": "8e120b9a-29ab-4c4b-8e0a-0c48ffb56d53",
    "scrolled": true
   },
   "outputs": [
    {
     "name": "stdout",
     "output_type": "stream",
     "text": [
      "Array size : 96006758\n",
      "Non-zero counts : 74371\n",
      "Percentage : 0.07746433850000435 %\n"
     ]
    }
   ],
   "source": [
    "#removal of stop words \n",
    "stopwords = list(set(stopwords.words('english')))\n",
    "stopwords.extend(['_comma_', ''])  \n",
    "train_data_list_cleaned = train_data_list.apply(lambda x: [w for w in word_tokenize(x) if not w.lower() in stopwords])\n",
    "train_data_list_cleaned_fnl = train_data_list_cleaned.str.join(' ').str.replace('_comma_','');\n",
    "\n",
    "test_data_list_cleaned = test_data_list.apply(lambda x: [w for w in word_tokenize(x) if not w.lower() in stopwords])\n",
    "test_data_list_cleaned_fnl = test_data_list_cleaned.str.join(' ').str.replace('_comma_','');\n",
    "\n",
    "\n",
    "#Convert to Bag of Words now and check Sparsity\n",
    "#Bag of Words Representation\n",
    "vectorizer = CountVectorizer()\n",
    "train_data_bow = vectorizer.fit_transform(train_data_list_cleaned_fnl)\n",
    "train_data_BoW_arr = train_data_bow.toarray()\n",
    "\n",
    "#counting words that are greater than zero(since Bag of Words tends to give sparse representations)\n",
    "nonzero_counts = np.count_nonzero(train_data_BoW_arr)\n",
    "nonzero_percentage = nonzero_counts/train_data_BoW_arr.size\n",
    "\n",
    "print(\"Array size : {0}\".format(train_data_BoW_arr.size))\n",
    "print(\"Non-zero counts : {0}\".format(nonzero_counts))\n",
    "print(\"Percentage : {0} %\".format(nonzero_percentage*100))"
   ]
  },
  {
   "cell_type": "markdown",
   "id": "52642f94",
   "metadata": {
    "id": "52642f94"
   },
   "source": [
    "#### 4. TF-IDF Normalization"
   ]
  },
  {
   "cell_type": "code",
   "execution_count": 78,
   "id": "fe12c3e3",
   "metadata": {
    "id": "fe12c3e3"
   },
   "outputs": [],
   "source": [
    "#training data\n",
    "train_tfidf_transformer = TfidfTransformer(smooth_idf=True,use_idf=True)\n",
    "train_data_tfidf_transformed = train_tfidf_transformer.fit_transform(train_data_bow)\n",
    "train_data_tfidf = train_data_tfidf_transformed.toarray()      \n"
   ]
  },
  {
   "cell_type": "code",
   "execution_count": 79,
   "id": "219e9914",
   "metadata": {
    "colab": {
     "base_uri": "https://localhost:8080/"
    },
    "id": "219e9914",
    "outputId": "418438ae-a045-4a66-b567-e494581dba26"
   },
   "outputs": [
    {
     "name": "stdout",
     "output_type": "stream",
     "text": [
      "(11351, 8458)\n",
      "                 TF-IDF\n",
      "microscope     0.381617\n",
      "bullets        0.365572\n",
      "sweat          0.354189\n",
      "uncomfortable  0.345359\n",
      "interviews     0.338144\n",
      "general        0.314159\n",
      "looked         0.281673\n",
      "makes          0.214072\n",
      "job            0.204223\n",
      "make           0.196343\n"
     ]
    }
   ],
   "source": [
    "#check how the transformation looks \n",
    "print(train_data_tfidf.shape)\n",
    "\n",
    "df = pd.DataFrame(train_data_tfidf_transformed[0].T.todense(), index=vectorizer.get_feature_names_out(), columns=[\"TF-IDF\"])\n",
    "df = df.sort_values('TF-IDF', ascending=False)\n",
    "print (df.head(10))"
   ]
  },
  {
   "cell_type": "markdown",
   "id": "6522018b",
   "metadata": {
    "id": "6522018b"
   },
   "source": [
    "#### 5.Building an SGD Classifier for Multi-Class classification"
   ]
  },
  {
   "cell_type": "code",
   "execution_count": 80,
   "id": "4a1fbb94",
   "metadata": {
    "colab": {
     "base_uri": "https://localhost:8080/"
    },
    "id": "4a1fbb94",
    "outputId": "ba7b0191-616c-4092-cba4-85e3b23e536a"
   },
   "outputs": [
    {
     "data": {
      "text/plain": [
       "SGDClassifier(random_state=42)"
      ]
     },
     "execution_count": 80,
     "metadata": {},
     "output_type": "execute_result"
    }
   ],
   "source": [
    "#training\n",
    "X_train = train_data_tfidf\n",
    "y_train = train_labels_encoded\n",
    "clf = SGDClassifier(random_state = 42)\n",
    "clf.fit(X_train,y_train)\n"
   ]
  },
  {
   "cell_type": "code",
   "execution_count": 81,
   "id": "c40902a3",
   "metadata": {
    "id": "c40902a3"
   },
   "outputs": [],
   "source": [
    "#testdata transformation using training data\n",
    "test_count_vectorizer = CountVectorizer(vocabulary = vectorizer.get_feature_names_out())\n",
    "test_data_bow = test_count_vectorizer.fit_transform(test_data_list_cleaned_fnl)\n",
    "test_data_BoW_arr = test_data_bow.toarray()\n",
    "\n",
    "test_tfidf_transformer = TfidfTransformer(smooth_idf=True,use_idf=True)\n",
    "test_data_tfidf_transformed = test_tfidf_transformer.fit_transform(test_data_bow)\n",
    "test_data_tfidf = test_data_tfidf_transformed.toarray()      "
   ]
  },
  {
   "cell_type": "code",
   "execution_count": 82,
   "id": "bf639ca6",
   "metadata": {
    "id": "bf639ca6"
   },
   "outputs": [],
   "source": [
    "#perform predictions\n",
    "X_test = test_data_tfidf\n",
    "y_pred = clf.predict(X_test)\n",
    "y_test = test_labels_encoded"
   ]
  },
  {
   "cell_type": "code",
   "execution_count": 129,
   "id": "6b01d327",
   "metadata": {
    "scrolled": true
   },
   "outputs": [
    {
     "name": "stdout",
     "output_type": "stream",
     "text": [
      "Misclassfied indexes : [1, 2, 4, 6, 8]\n",
      "\n",
      "Example 1:\n",
      "Index : 4 \n",
      "True label : sad\n",
      "Predicted Label : terrified\n",
      "yes! And i do believe in God and prayers but goodness gracious please take your children to the hospital and let God heal them THROUGH doctors\n",
      "\n",
      "Example 2:\n",
      "Index : 6 \n",
      "True label : joyful\n",
      "Predicted Label : sad\n",
      "3 years is a long time. How come?\n"
     ]
    }
   ],
   "source": [
    "misclassified_indexes = list(np.where(y_test!=y_pred)[0])[:5]\n",
    "print(\"Misclassfied indexes : {0}\\n\".format(misclassified_indexes))\n",
    "\n",
    "print(\"Example 1:\")\n",
    "i = misclassified_indexes[2]\n",
    "print(\"Index : {0} \\nTrue label : {1}\\nPredicted Label : {2}\".format(i, labels_dict[y_test[i]], labels_dict[y_pred[i]]))\n",
    "print(test_data_list_filtered['utterance'].iloc[i])\n",
    "\n",
    "print(\"\\nExample 2:\")\n",
    "i = misclassified_indexes[3]\n",
    "\n",
    "print(\"Index : {0} \\nTrue label : {1}\\nPredicted Label : {2}\".format(i, labels_dict[y_test[i]], labels_dict[y_pred[i]]))\n",
    "print(test_data_list_filtered['utterance'].iloc[i])"
   ]
  },
  {
   "cell_type": "markdown",
   "id": "38d54ec4",
   "metadata": {},
   "source": [
    "- In the first example, the tone is highly exclamative. The words like goodness gracious could have caused the model to classify the utterance as 'terrified'\n",
    "\n",
    "- In the second example, we can see that the sentence could be easily interpreted as sad even by humans, if we do not hear the tone of the person speaking and just read this sentence. The words 'how come' add an element of reflection which could be interpreted as sad.\n"
   ]
  },
  {
   "cell_type": "code",
   "execution_count": 16,
   "id": "44886df8",
   "metadata": {
    "colab": {
     "base_uri": "https://localhost:8080/",
     "height": 334
    },
    "id": "44886df8",
    "outputId": "3b2a9ad9-dfab-4c90-c113-f2687d08157c"
   },
   "outputs": [
    {
     "name": "stdout",
     "output_type": "stream",
     "text": [
      "Accuracy : 0.6122004357298475\n",
      "F-score : 0.6122004357298475\n"
     ]
    },
    {
     "data": {
      "text/plain": [
       "<AxesSubplot:>"
      ]
     },
     "execution_count": 16,
     "metadata": {},
     "output_type": "execute_result"
    },
    {
     "data": {
      "image/png": "[encoded data removed]",
      "text/plain": [
       "<Figure size 432x288 with 2 Axes>"
      ]
     },
     "metadata": {
      "needs_background": "light"
     },
     "output_type": "display_data"
    }
   ],
   "source": [
    "#performance metrics\n",
    "accuracy = accuracy_score(y_test, y_pred)\n",
    "f_score = f1_score(y_test, y_pred, average = 'micro')\n",
    "cf_matrix = confusion_matrix(y_test, y_pred)\n",
    "\n",
    "print(\"Accuracy : {0}\\nF-score : {1}\".format(accuracy,f_score))\n",
    "sns.heatmap(cf_matrix, annot=True)"
   ]
  },
  {
   "cell_type": "markdown",
   "id": "8e4aacf5",
   "metadata": {
    "id": "8e4aacf5"
   },
   "source": [
    "#### 6. Using Word2Vec Embeddings (Google Word2Vec)"
   ]
  },
  {
   "cell_type": "code",
   "execution_count": 36,
   "id": "7ab8e3b3",
   "metadata": {
    "colab": {
     "base_uri": "https://localhost:8080/"
    },
    "id": "7ab8e3b3",
    "outputId": "9be25235-cee2-4b24-9d85-662b4947f941"
   },
   "outputs": [
    {
     "data": {
      "text/plain": [
       "300"
      ]
     },
     "execution_count": 36,
     "metadata": {},
     "output_type": "execute_result"
    }
   ],
   "source": [
    "#download the model and return as object ready for use\n",
    "model = api.load(\"word2vec-google-news-300\") \n",
    "\n",
    "#check model size\n",
    "model.vector_size"
   ]
  },
  {
   "cell_type": "markdown",
   "id": "70444e31",
   "metadata": {
    "id": "70444e31"
   },
   "source": [
    "#### To get the vector for each training instance, we will take a weighted avg of all the word-vectors for that instance, weighted on the number of occurences of the word. \n",
    "\n",
    "For example, \"This is a cat without a tail\" would be converted as :\n",
    "            docVector = 1/7 [1(wv(this)) + 1(wv(is)) + 2(wv(a)) + 1(wv(cat)) + 1(wv(without)) + 1(wv(tail))]\n",
    "\n",
    "Steps : \n",
    "1. Filter out the word vector for the words present in the training instances\n",
    "2. Convert each instance to a doc vec based on following steps :\n",
    "    - Get list of unique words in the instance \n",
    "    - Get the occurence of each unique word\n",
    "    - Get vectors corresponding to each word\n",
    "    - Do a weighted avg with the weights as the number of occurences \n",
    "3. Repeat for all instances of training data"
   ]
  },
  {
   "cell_type": "code",
   "execution_count": 37,
   "id": "21b31be6",
   "metadata": {
    "id": "21b31be6"
   },
   "outputs": [],
   "source": [
    "def doc2vec(doc):\n",
    "    doc2vec.i = doc2vec.i + 1\n",
    "    if (doc2vec.i%1000 == 0):\n",
    "      print(\"Iterations completed : {0}\".format(doc2vec.i))\n",
    "    \n",
    "    #common words\n",
    "    commonWords = set(doc).intersection(set(model.index_to_key))\n",
    "    if len(commonWords)!=0 :\n",
    "         \n",
    "        # get the vectors for items in array and \n",
    "        modelVectorDict = dict(zip(commonWords,list(map(model.get_vector, commonWords))))\n",
    "        wordVectors = np.array(list(modelVectorDict.values()))\n",
    "        \n",
    "        #calculate weighted average \n",
    "        docVec = np.average(wordVectors,axis=0)\n",
    "        return docVec\n",
    "    else: \n",
    "        return None\n",
    "\n",
    "\n",
    "    "
   ]
  },
  {
   "cell_type": "code",
   "execution_count": 38,
   "id": "8919e790",
   "metadata": {
    "colab": {
     "base_uri": "https://localhost:8080/"
    },
    "id": "8919e790",
    "outputId": "a4e4fde4-a868-448e-a370-348315b735f8"
   },
   "outputs": [
    {
     "name": "stdout",
     "output_type": "stream",
     "text": [
      "Iterations completed : 1000\n",
      "Iterations completed : 2000\n",
      "Iterations completed : 3000\n",
      "Iterations completed : 4000\n",
      "Iterations completed : 5000\n",
      "Iterations completed : 6000\n",
      "Iterations completed : 7000\n",
      "Iterations completed : 8000\n",
      "Iterations completed : 9000\n",
      "Iterations completed : 10000\n",
      "Iterations completed : 11000\n",
      "116.78781165281931 mins\n"
     ]
    }
   ],
   "source": [
    "#converting the input to feature vectors using word2vec\n",
    "start = time.time()\n",
    "doc2vec.i = 0;\n",
    "train_data_list_cleaned_fnl = pd.DataFrame(train_data_list_cleaned_fnl)\n",
    "Doc2vec = train_data_list_cleaned_fnl.applymap(lambda doc: doc2vec(word_tokenize(doc)))\n",
    "end = time.time()\n",
    "elapsed_time = (end - start)/60\n",
    "print(\"{0} mins\".format(elapsed_time))\n"
   ]
  },
  {
   "cell_type": "code",
   "execution_count": 39,
   "id": "O5jWaDwusTbE",
   "metadata": {
    "colab": {
     "base_uri": "https://localhost:8080/",
     "height": 363
    },
    "id": "O5jWaDwusTbE",
    "outputId": "e90a3366-b1ea-4357-984d-3bd387770895"
   },
   "outputs": [],
   "source": [
    "#remove the rows that do not have a vector representation\n",
    "mask = Doc2vec['utterance'].notna()\n",
    "y_train = train_labels_encoded[mask]\n",
    "X_train = pd.DataFrame(Doc2vec['utterance'][mask].tolist()).to_numpy()"
   ]
  },
  {
   "cell_type": "code",
   "execution_count": 40,
   "id": "E9t_jWYFPtxs",
   "metadata": {
    "colab": {
     "base_uri": "https://localhost:8080/",
     "height": 286
    },
    "id": "E9t_jWYFPtxs",
    "outputId": "f525e2c1-d3b9-44cd-a94c-907f0e24f106"
   },
   "outputs": [
    {
     "name": "stderr",
     "output_type": "stream",
     "text": [
      "C:\\Miniconda\\lib\\site-packages\\sklearn\\neural_network\\_multilayer_perceptron.py:692: ConvergenceWarning: Stochastic Optimizer: Maximum iterations (300) reached and the optimization hasn't converged yet.\n",
      "  warnings.warn(\n"
     ]
    },
    {
     "data": {
      "text/plain": [
       "MLPClassifier(hidden_layer_sizes=(150,), max_iter=300, random_state=42)"
      ]
     },
     "execution_count": 40,
     "metadata": {},
     "output_type": "execute_result"
    }
   ],
   "source": [
    "#Building MLP Classifier using word embeddings\n",
    "mlp = MLPClassifier(hidden_layer_sizes=(150,),random_state = 42, max_iter=300)\n",
    "mlp.fit(X_train, y_train)"
   ]
  },
  {
   "cell_type": "code",
   "execution_count": 41,
   "id": "eTIvxYxfQmvo",
   "metadata": {
    "id": "eTIvxYxfQmvo"
   },
   "outputs": [
    {
     "name": "stdout",
     "output_type": "stream",
     "text": [
      "Iterations completed : 1000\n",
      "8.243388231595357\n"
     ]
    }
   ],
   "source": [
    "#transform test data\n",
    "start = time.time()\n",
    "doc2vec.i = 0;\n",
    "test_data_list_cleaned_fnl = pd.DataFrame(test_data_list_cleaned_fnl)\n",
    "testDoc2vec = test_data_list_cleaned_fnl.applymap(lambda doc: doc2vec(word_tokenize(doc)))\n",
    "end = time.time()\n",
    "elapsed_time = (end - start)/60\n",
    "print(elapsed_time)"
   ]
  },
  {
   "cell_type": "code",
   "execution_count": 42,
   "id": "95483e04",
   "metadata": {},
   "outputs": [],
   "source": [
    "#remove the rows that do not have a vector representation\n",
    "mask = testDoc2vec['utterance'].notna()\n",
    "y_test = test_labels_encoded[mask]\n",
    "X_test = pd.DataFrame(testDoc2vec['utterance'][mask].tolist()).to_numpy()"
   ]
  },
  {
   "cell_type": "code",
   "execution_count": 43,
   "id": "f5669770",
   "metadata": {},
   "outputs": [
    {
     "name": "stdout",
     "output_type": "stream",
     "text": [
      "Accuracy : 0.6120815138282387\n",
      "F-score : 0.6120815138282387\n"
     ]
    },
    {
     "data": {
      "text/plain": [
       "<AxesSubplot:>"
      ]
     },
     "execution_count": 43,
     "metadata": {},
     "output_type": "execute_result"
    },
    {
     "data": {
      "image/png": "[encoded data removed]",
      "text/plain": [
       "<Figure size 432x288 with 2 Axes>"
      ]
     },
     "metadata": {
      "needs_background": "light"
     },
     "output_type": "display_data"
    }
   ],
   "source": [
    "#Predict class labels \n",
    "y_pred = mlp.predict(X_test)\n",
    "\n",
    "accuracy = accuracy_score(y_test, y_pred)\n",
    "f_score = f1_score(y_test, y_pred, average = 'micro')\n",
    "cf_matrix = confusion_matrix(y_test, y_pred)\n",
    "\n",
    "print(\"Accuracy : {0}\\nF-score : {1}\".format(accuracy,f_score))\n",
    "sns.heatmap(cf_matrix, annot=True)"
   ]
  },
  {
   "cell_type": "markdown",
   "id": "7782719b",
   "metadata": {},
   "source": [
    "#### 7. Sentence Embeddings using pre-trained Distil-BERT\n",
    "- We can use the last hidden layer as the sentence vector since it captures the most contextual information. We can think of the 0th layer as capturing very less context and progressively capturing more context with the further layers. Hence, we will use the output from the last layer by averaging over the tensors for each token in the sentence."
   ]
  },
  {
   "cell_type": "code",
   "execution_count": 62,
   "id": "92aebadc",
   "metadata": {},
   "outputs": [
    {
     "name": "stderr",
     "output_type": "stream",
     "text": [
      "Some weights of the model checkpoint at distilbert-base-uncased were not used when initializing DistilBertModel: ['vocab_transform.weight', 'vocab_layer_norm.bias', 'vocab_projector.bias', 'vocab_projector.weight', 'vocab_transform.bias', 'vocab_layer_norm.weight']\n",
      "- This IS expected if you are initializing DistilBertModel from the checkpoint of a model trained on another task or with another architecture (e.g. initializing a BertForSequenceClassification model from a BertForPreTraining model).\n",
      "- This IS NOT expected if you are initializing DistilBertModel from the checkpoint of a model that you expect to be exactly identical (initializing a BertForSequenceClassification model from a BertForSequenceClassification model).\n"
     ]
    }
   ],
   "source": [
    "tokenizer = DistilBertTokenizer.from_pretrained('distilbert-base-uncased')\n",
    "model = DistilBertModel.from_pretrained(\"distilbert-base-uncased\")\n",
    "\n",
    "def sentenceVec(doc):\n",
    "    \n",
    "    sentenceVec.i = sentenceVec.i + 1\n",
    "    if (sentenceVec.i%1000 == 0):\n",
    "        print(\"Iterations completed : {0}\".format(sentenceVec.i))\n",
    "    inputs = tokenizer(doc, return_tensors=\"pt\", truncation = True)\n",
    "    outputs = model(**inputs)\n",
    "    last_hidden_states = outputs.last_hidden_state\n",
    "    sentence_embedding = torch.mean(last_hidden_states[0], dim=0).detach().numpy()\n",
    "    \n",
    "    return sentence_embedding"
   ]
  },
  {
   "cell_type": "code",
   "execution_count": 63,
   "id": "913d1b5e",
   "metadata": {},
   "outputs": [
    {
     "name": "stdout",
     "output_type": "stream",
     "text": [
      "Iterations completed : 1000\n",
      "Iterations completed : 2000\n",
      "Iterations completed : 3000\n",
      "Iterations completed : 4000\n",
      "Iterations completed : 5000\n",
      "Iterations completed : 6000\n",
      "Iterations completed : 7000\n",
      "Iterations completed : 8000\n",
      "Iterations completed : 9000\n",
      "Iterations completed : 10000\n",
      "Iterations completed : 11000\n",
      "4.472188488642375\n"
     ]
    }
   ],
   "source": [
    "#getting sentence vectors\n",
    "start = time.time()\n",
    "sentenceVec.i = 0;\n",
    "train_data_list_cleaned_fnl = pd.DataFrame(train_data_list_cleaned_fnl)\n",
    "train_sentence_vectors =  train_data_list_cleaned_fnl.applymap(lambda doc: sentenceVec(doc))\n",
    "end = time.time()\n",
    "elapsed_time = (end - start)/60\n",
    "print(elapsed_time)"
   ]
  },
  {
   "cell_type": "code",
   "execution_count": 67,
   "id": "fdc25b19",
   "metadata": {},
   "outputs": [
    {
     "data": {
      "text/plain": [
       "MLPClassifier(hidden_layer_sizes=(150,), max_iter=300, random_state=42)"
      ]
     },
     "execution_count": 67,
     "metadata": {},
     "output_type": "execute_result"
    }
   ],
   "source": [
    "#Building MLP Classifier using sentence vectors\n",
    "X_train = pd.DataFrame(train_sentence_vectors['utterance'].tolist()).to_numpy()\n",
    "mlp = MLPClassifier(hidden_layer_sizes=(150,),random_state = 42, max_iter=300)\n",
    "mlp.fit(X_train, y_train)"
   ]
  },
  {
   "cell_type": "code",
   "execution_count": 68,
   "id": "455083bf",
   "metadata": {},
   "outputs": [
    {
     "name": "stdout",
     "output_type": "stream",
     "text": [
      "Iterations completed : 1000\n",
      "0.5361475308736166\n"
     ]
    }
   ],
   "source": [
    "#transform test data\n",
    "start = time.time()\n",
    "sentenceVec.i = 0;\n",
    "test_data_list_cleaned_fnl = pd.DataFrame(test_data_list_cleaned_fnl)\n",
    "test_sentence_vectors =  test_data_list_cleaned_fnl.applymap(lambda doc: sentenceVec(doc))\n",
    "end = time.time()\n",
    "elapsed_time = (end - start)/60\n",
    "print(elapsed_time)"
   ]
  },
  {
   "cell_type": "code",
   "execution_count": 70,
   "id": "fc762a77",
   "metadata": {},
   "outputs": [
    {
     "name": "stdout",
     "output_type": "stream",
     "text": [
      "Accuracy : 0.5787944807552651\n",
      "F-score : 0.5787944807552651\n"
     ]
    },
    {
     "data": {
      "text/plain": [
       "<AxesSubplot:>"
      ]
     },
     "execution_count": 70,
     "metadata": {},
     "output_type": "execute_result"
    },
    {
     "data": {
      "image/png": "[encoded data removed]",
      "text/plain": [
       "<Figure size 432x288 with 2 Axes>"
      ]
     },
     "metadata": {
      "needs_background": "light"
     },
     "output_type": "display_data"
    }
   ],
   "source": [
    "#Predict class labels \n",
    "X_test = pd.DataFrame(test_sentence_vectors['utterance'].tolist()).to_numpy()\n",
    "y_pred = mlp.predict(X_test)\n",
    "\n",
    "accuracy = accuracy_score(y_test, y_pred)\n",
    "f_score = f1_score(y_test, y_pred, average = 'micro')\n",
    "cf_matrix = confusion_matrix(y_test, y_pred)\n",
    "\n",
    "print(\"Accuracy : {0}\\nF-score : {1}\".format(accuracy,f_score))\n",
    "sns.heatmap(cf_matrix, annot=True)"
   ]
  },
  {
   "cell_type": "markdown",
   "id": "41e10f08",
   "metadata": {},
   "source": [
    "#### 8. Answers to the questions from the paper : "
   ]
  },
  {
   "cell_type": "markdown",
   "id": "20d8a999",
   "metadata": {},
   "source": [
    "**8.1.** This paper's mention of fine-tuning involves usage of the utterances from their training data (ED) over pre-trained models to predict the next utterance with a context-window of four previous utterances. The authors suggest that these utterances be used as candidate responses in a retrieval model at inference time. Essentially, this would mean that, while building an empathetic chatbot, we could use the empathetic utterances from the dataset to provide an empathetic response. This data could also be used in training the chatbot. \n",
    "\n",
    "**8.2** The transformer models with multi-headed attention systems learn contextual relations between words. It learns the context based on all of its surroundings (words before and after). This makes it easier for the application to get the most empathetic utterance. Also, according to this paper, BERT has been used in training these models. Since BERT uses masking and trying to predict the masked words, it gives even more accurate results. This paper also uses two different types of Transformer models, retrieval and architechture based, to obtain the best utterances. \n",
    "\n",
    "**8.3** i)  P@1,100 : The accuracy of the model at choosing the correct response out of a hundred randomly selected examples in the test set. While computing p@1,100, the actual response is included in the candidates, unlike inference from the retrieval systems for all other metrics, which only uses training utterances as candidates.\n",
    "\n",
    "**8.3** ii) AVG-BLEU : AVG-BLEU is the Average of BLEU-1,2,3,4 scores. The model response is compared against the gold label. It compares the clipped n-grams of candidates with n-grams of the reference and counts the number of matches to get the number of overlapping n-grams. It is the geometric mean of the n-gram precision scores multiplied by a brevity penalty. In essence, this gives us a measure of similarity of two sentences based on the overlapping words. \n",
    "\n",
    "**8.3** iii) PPL : Perplexity is defined as the exponentiated average negative log-likelihood of a sequence. Its a summation of conditional likelihood of a token xi, conditioned on all previous tokens in the document. Intuitively, it can be thought of as an evaluation of the model’s ability to predict uniformly among the set of specified tokens in a corpus.\n",
    "\n",
    "**8.4** AVG-BLEUwould serve as a good metric since to ensure that our model is producing the most empathetic utterance that is the closest to human utterance. It can also be used on both generative and retrieval models. \n",
    "\n",
    "**8.5** Based on the evaluation in the paper, the Retrieval model with BERT would help the system get to a more human-like performance. Additionally, we could also try to teach to teach the model what is NOT an empathetic utterance by adding additional data points for wrong-instances and penalizing the model heavily for generating anything that is similar to the non-empathetic instances. This would also help in generating a more realistic model."
   ]
  },
  {
   "cell_type": "code",
   "execution_count": null,
   "id": "094933f9",
   "metadata": {},
   "outputs": [],
   "source": []
  }
 ],
 "metadata": {
  "accelerator": "GPU",
  "colab": {
   "collapsed_sections": [],
   "name": "HW4.ipynb",
   "provenance": []
  },
  "kernelspec": {
   "display_name": "Python 3 (ipykernel)",
   "language": "python",
   "name": "python3"
  },
  "language_info": {
   "codemirror_mode": {
    "name": "ipython",
    "version": 3
   },
   "file_extension": ".py",
   "mimetype": "text/x-python",
   "name": "python",
   "nbconvert_exporter": "python",
   "pygments_lexer": "ipython3",
   "version": "3.9.5"
  }
 },
 "nbformat": 4,
 "nbformat_minor": 5
}
